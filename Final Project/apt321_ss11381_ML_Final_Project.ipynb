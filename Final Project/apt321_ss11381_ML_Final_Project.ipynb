{
 "cells": [
  {
   "cell_type": "markdown",
   "metadata": {},
   "source": [
    "# Machine Learning Homework 5 - Final Project\n",
    "\n",
    "### Submission By:  \n",
    "<ul>\n",
    "    <li>Akshay Prakash Tambe (apt321@nyu.edu)</li>\n",
    "    <li>Snahil Singh (ss11381@nyu.edu)</li>\n",
    "</ul>"
   ]
  },
  {
   "cell_type": "code",
   "execution_count": 1,
   "metadata": {
    "collapsed": true
   },
   "outputs": [],
   "source": [
    "# Import Packages\n",
    "import pandas as pd\n",
    "import numpy as np"
   ]
  },
  {
   "cell_type": "code",
   "execution_count": 2,
   "metadata": {
    "collapsed": true
   },
   "outputs": [],
   "source": [
    "# Loading Comma Seperated Data using read_table pandas function in 'census_train_data' dataframe\n",
    "census_train_data = pd.read_csv(\"census_train.csv\", header=None)\n",
    "census_train_data = pd.DataFrame(census_train_data)\n",
    "# Adding Headers to Data\n",
    "census_train_data.columns = [\"idnum\", \"age\", \"workerclass\", \"interestincome\", \"traveltimetowork\",\\\n",
    "                             \"vehicleoccupancy\", \"meansoftransport\", \"marital\", \"schoolenrollment\",\\\n",
    "                             \"educationalattain\", \"sex\", \"workarrivaltime\", \"hoursworkperweek\", \"ancestry\",\\\n",
    "                             \"degreefield\", \"industryworkedin\", \"wages\"]\n",
    "\n",
    "\n",
    "# Loading Comma Seperated Data using read_table pandas function in 'reviews_test_data' dataframe\n",
    "census_test_data = pd.read_csv(\"census_test.csv\", header=None)\n",
    "census_test_data = pd.DataFrame(census_test_data)\n",
    "census_test_data.columns = [\"idnum\", \"age\", \"workerclass\", \"interestincome\", \"traveltimetowork\",\\\n",
    "                             \"vehicleoccupancy\", \"meansoftransport\", \"marital\", \"schoolenrollment\",\\\n",
    "                             \"educationalattain\", \"sex\", \"workarrivaltime\", \"hoursworkperweek\", \"ancestry\",\\\n",
    "                             \"degreefield\", \"industryworkedin\"]"
   ]
  },
  {
   "cell_type": "code",
   "execution_count": 3,
   "metadata": {},
   "outputs": [
    {
     "data": {
      "text/html": [
       "<div>\n",
       "<style>\n",
       "    .dataframe thead tr:only-child th {\n",
       "        text-align: right;\n",
       "    }\n",
       "\n",
       "    .dataframe thead th {\n",
       "        text-align: left;\n",
       "    }\n",
       "\n",
       "    .dataframe tbody tr th {\n",
       "        vertical-align: top;\n",
       "    }\n",
       "</style>\n",
       "<table border=\"1\" class=\"dataframe\">\n",
       "  <thead>\n",
       "    <tr style=\"text-align: right;\">\n",
       "      <th></th>\n",
       "      <th>idnum</th>\n",
       "      <th>age</th>\n",
       "      <th>workerclass</th>\n",
       "      <th>interestincome</th>\n",
       "      <th>traveltimetowork</th>\n",
       "      <th>vehicleoccupancy</th>\n",
       "      <th>meansoftransport</th>\n",
       "      <th>marital</th>\n",
       "      <th>schoolenrollment</th>\n",
       "      <th>educationalattain</th>\n",
       "      <th>sex</th>\n",
       "      <th>workarrivaltime</th>\n",
       "      <th>hoursworkperweek</th>\n",
       "      <th>ancestry</th>\n",
       "      <th>degreefield</th>\n",
       "      <th>industryworkedin</th>\n",
       "      <th>wages</th>\n",
       "    </tr>\n",
       "  </thead>\n",
       "  <tbody>\n",
       "    <tr>\n",
       "      <th>0</th>\n",
       "      <td>0</td>\n",
       "      <td>58</td>\n",
       "      <td>3</td>\n",
       "      <td>0</td>\n",
       "      <td>40</td>\n",
       "      <td>2</td>\n",
       "      <td>1</td>\n",
       "      <td>1</td>\n",
       "      <td>1</td>\n",
       "      <td>22</td>\n",
       "      <td>1</td>\n",
       "      <td>84</td>\n",
       "      <td>40</td>\n",
       "      <td>32</td>\n",
       "      <td>2300</td>\n",
       "      <td>7870</td>\n",
       "      <td>110000</td>\n",
       "    </tr>\n",
       "    <tr>\n",
       "      <th>1</th>\n",
       "      <td>1</td>\n",
       "      <td>34</td>\n",
       "      <td>3</td>\n",
       "      <td>0</td>\n",
       "      <td>10</td>\n",
       "      <td>1</td>\n",
       "      <td>1</td>\n",
       "      <td>5</td>\n",
       "      <td>1</td>\n",
       "      <td>16</td>\n",
       "      <td>1</td>\n",
       "      <td>168</td>\n",
       "      <td>40</td>\n",
       "      <td>51</td>\n",
       "      <td>?</td>\n",
       "      <td>7860</td>\n",
       "      <td>34500</td>\n",
       "    </tr>\n",
       "    <tr>\n",
       "      <th>2</th>\n",
       "      <td>2</td>\n",
       "      <td>57</td>\n",
       "      <td>2</td>\n",
       "      <td>0</td>\n",
       "      <td>15</td>\n",
       "      <td>8</td>\n",
       "      <td>1</td>\n",
       "      <td>5</td>\n",
       "      <td>1</td>\n",
       "      <td>16</td>\n",
       "      <td>1</td>\n",
       "      <td>100</td>\n",
       "      <td>30</td>\n",
       "      <td>51</td>\n",
       "      <td>?</td>\n",
       "      <td>8390</td>\n",
       "      <td>4700</td>\n",
       "    </tr>\n",
       "    <tr>\n",
       "      <th>3</th>\n",
       "      <td>3</td>\n",
       "      <td>17</td>\n",
       "      <td>?</td>\n",
       "      <td>0</td>\n",
       "      <td>?</td>\n",
       "      <td>?</td>\n",
       "      <td>?</td>\n",
       "      <td>5</td>\n",
       "      <td>2</td>\n",
       "      <td>15</td>\n",
       "      <td>2</td>\n",
       "      <td>?</td>\n",
       "      <td>?</td>\n",
       "      <td>714</td>\n",
       "      <td>?</td>\n",
       "      <td>?</td>\n",
       "      <td>0</td>\n",
       "    </tr>\n",
       "    <tr>\n",
       "      <th>4</th>\n",
       "      <td>4</td>\n",
       "      <td>42</td>\n",
       "      <td>1</td>\n",
       "      <td>0</td>\n",
       "      <td>20</td>\n",
       "      <td>1</td>\n",
       "      <td>1</td>\n",
       "      <td>1</td>\n",
       "      <td>1</td>\n",
       "      <td>22</td>\n",
       "      <td>1</td>\n",
       "      <td>92</td>\n",
       "      <td>45</td>\n",
       "      <td>21</td>\n",
       "      <td>5001</td>\n",
       "      <td>6990</td>\n",
       "      <td>120000</td>\n",
       "    </tr>\n",
       "  </tbody>\n",
       "</table>\n",
       "</div>"
      ],
      "text/plain": [
       "   idnum  age workerclass  interestincome traveltimetowork vehicleoccupancy  \\\n",
       "0      0   58           3               0               40                2   \n",
       "1      1   34           3               0               10                1   \n",
       "2      2   57           2               0               15                8   \n",
       "3      3   17           ?               0                ?                ?   \n",
       "4      4   42           1               0               20                1   \n",
       "\n",
       "  meansoftransport  marital  schoolenrollment  educationalattain  sex  \\\n",
       "0                1        1                 1                 22    1   \n",
       "1                1        5                 1                 16    1   \n",
       "2                1        5                 1                 16    1   \n",
       "3                ?        5                 2                 15    2   \n",
       "4                1        1                 1                 22    1   \n",
       "\n",
       "  workarrivaltime hoursworkperweek  ancestry degreefield industryworkedin  \\\n",
       "0              84               40        32        2300             7870   \n",
       "1             168               40        51           ?             7860   \n",
       "2             100               30        51           ?             8390   \n",
       "3               ?                ?       714           ?                ?   \n",
       "4              92               45        21        5001             6990   \n",
       "\n",
       "    wages  \n",
       "0  110000  \n",
       "1   34500  \n",
       "2    4700  \n",
       "3       0  \n",
       "4  120000  "
      ]
     },
     "execution_count": 3,
     "metadata": {},
     "output_type": "execute_result"
    }
   ],
   "source": [
    "census_train_data.head()"
   ]
  },
  {
   "cell_type": "markdown",
   "metadata": {},
   "source": [
    "# Data Cleaning"
   ]
  },
  {
   "cell_type": "markdown",
   "metadata": {},
   "source": [
    "<div style=\"color:blue\">\n",
    "No Missing Values Found in:  \n",
    "- idnum  \n",
    "- age  \n",
    "- interestincome  \n",
    "- marital  \n",
    "- sex  \n",
    "- ancestry  \n",
    "- wages\n",
    "</div>"
   ]
  },
  {
   "cell_type": "code",
   "execution_count": 4,
   "metadata": {},
   "outputs": [
    {
     "data": {
      "text/html": [
       "<div>\n",
       "<style>\n",
       "    .dataframe thead tr:only-child th {\n",
       "        text-align: right;\n",
       "    }\n",
       "\n",
       "    .dataframe thead th {\n",
       "        text-align: left;\n",
       "    }\n",
       "\n",
       "    .dataframe tbody tr th {\n",
       "        vertical-align: top;\n",
       "    }\n",
       "</style>\n",
       "<table border=\"1\" class=\"dataframe\">\n",
       "  <thead>\n",
       "    <tr style=\"text-align: right;\">\n",
       "      <th></th>\n",
       "      <th>idnum</th>\n",
       "      <th>age</th>\n",
       "      <th>workerclass</th>\n",
       "      <th>interestincome</th>\n",
       "      <th>traveltimetowork</th>\n",
       "      <th>vehicleoccupancy</th>\n",
       "      <th>meansoftransport</th>\n",
       "      <th>marital</th>\n",
       "      <th>schoolenrollment</th>\n",
       "      <th>educationalattain</th>\n",
       "      <th>sex</th>\n",
       "      <th>workarrivaltime</th>\n",
       "      <th>hoursworkperweek</th>\n",
       "      <th>ancestry</th>\n",
       "      <th>degreefield</th>\n",
       "      <th>industryworkedin</th>\n",
       "      <th>wages</th>\n",
       "    </tr>\n",
       "  </thead>\n",
       "  <tbody>\n",
       "    <tr>\n",
       "      <th>0</th>\n",
       "      <td>0</td>\n",
       "      <td>58</td>\n",
       "      <td>3</td>\n",
       "      <td>0</td>\n",
       "      <td>40</td>\n",
       "      <td>2</td>\n",
       "      <td>1</td>\n",
       "      <td>1</td>\n",
       "      <td>1</td>\n",
       "      <td>22</td>\n",
       "      <td>1</td>\n",
       "      <td>84</td>\n",
       "      <td>40</td>\n",
       "      <td>32</td>\n",
       "      <td>2300</td>\n",
       "      <td>7870</td>\n",
       "      <td>110000</td>\n",
       "    </tr>\n",
       "    <tr>\n",
       "      <th>1</th>\n",
       "      <td>1</td>\n",
       "      <td>34</td>\n",
       "      <td>3</td>\n",
       "      <td>0</td>\n",
       "      <td>10</td>\n",
       "      <td>1</td>\n",
       "      <td>1</td>\n",
       "      <td>5</td>\n",
       "      <td>1</td>\n",
       "      <td>16</td>\n",
       "      <td>1</td>\n",
       "      <td>168</td>\n",
       "      <td>40</td>\n",
       "      <td>51</td>\n",
       "      <td>1000</td>\n",
       "      <td>7860</td>\n",
       "      <td>34500</td>\n",
       "    </tr>\n",
       "    <tr>\n",
       "      <th>2</th>\n",
       "      <td>2</td>\n",
       "      <td>57</td>\n",
       "      <td>2</td>\n",
       "      <td>0</td>\n",
       "      <td>15</td>\n",
       "      <td>8</td>\n",
       "      <td>1</td>\n",
       "      <td>5</td>\n",
       "      <td>1</td>\n",
       "      <td>16</td>\n",
       "      <td>1</td>\n",
       "      <td>100</td>\n",
       "      <td>30</td>\n",
       "      <td>51</td>\n",
       "      <td>1000</td>\n",
       "      <td>8390</td>\n",
       "      <td>4700</td>\n",
       "    </tr>\n",
       "    <tr>\n",
       "      <th>3</th>\n",
       "      <td>3</td>\n",
       "      <td>17</td>\n",
       "      <td>0</td>\n",
       "      <td>0</td>\n",
       "      <td>0</td>\n",
       "      <td>0</td>\n",
       "      <td>0</td>\n",
       "      <td>5</td>\n",
       "      <td>2</td>\n",
       "      <td>15</td>\n",
       "      <td>2</td>\n",
       "      <td>0</td>\n",
       "      <td>0</td>\n",
       "      <td>714</td>\n",
       "      <td>1000</td>\n",
       "      <td>100</td>\n",
       "      <td>0</td>\n",
       "    </tr>\n",
       "    <tr>\n",
       "      <th>4</th>\n",
       "      <td>4</td>\n",
       "      <td>42</td>\n",
       "      <td>1</td>\n",
       "      <td>0</td>\n",
       "      <td>20</td>\n",
       "      <td>1</td>\n",
       "      <td>1</td>\n",
       "      <td>1</td>\n",
       "      <td>1</td>\n",
       "      <td>22</td>\n",
       "      <td>1</td>\n",
       "      <td>92</td>\n",
       "      <td>45</td>\n",
       "      <td>21</td>\n",
       "      <td>5001</td>\n",
       "      <td>6990</td>\n",
       "      <td>120000</td>\n",
       "    </tr>\n",
       "  </tbody>\n",
       "</table>\n",
       "</div>"
      ],
      "text/plain": [
       "   idnum  age workerclass  interestincome traveltimetowork vehicleoccupancy  \\\n",
       "0      0   58           3               0               40                2   \n",
       "1      1   34           3               0               10                1   \n",
       "2      2   57           2               0               15                8   \n",
       "3      3   17           0               0                0                0   \n",
       "4      4   42           1               0               20                1   \n",
       "\n",
       "  meansoftransport  marital  schoolenrollment  educationalattain  sex  \\\n",
       "0                1        1                 1                 22    1   \n",
       "1                1        5                 1                 16    1   \n",
       "2                1        5                 1                 16    1   \n",
       "3                0        5                 2                 15    2   \n",
       "4                1        1                 1                 22    1   \n",
       "\n",
       "  workarrivaltime hoursworkperweek  ancestry degreefield industryworkedin  \\\n",
       "0              84               40        32        2300             7870   \n",
       "1             168               40        51        1000             7860   \n",
       "2             100               30        51        1000             8390   \n",
       "3               0                0       714        1000              100   \n",
       "4              92               45        21        5001             6990   \n",
       "\n",
       "    wages  \n",
       "0  110000  \n",
       "1   34500  \n",
       "2    4700  \n",
       "3       0  \n",
       "4  120000  "
      ]
     },
     "execution_count": 4,
     "metadata": {},
     "output_type": "execute_result"
    }
   ],
   "source": [
    "# Cleaning workerclass -  Filling it with zero's (New Category) as the description represents a different class from others\n",
    "census_train_data['workerclass'] = census_train_data['workerclass'].replace('?', 0)\n",
    "census_test_data['workerclass'] = census_test_data['workerclass'].replace('?', 0)\n",
    "\n",
    "# Cleaning traveltimetowork - Filling it with zero's (New Category) as worker who works from home will never travel, \n",
    "# Same applies to a worker who never worked.\n",
    "census_train_data['traveltimetowork'] = census_train_data['traveltimetowork'].replace('?', 0)\n",
    "census_test_data['traveltimetowork'] = census_test_data['traveltimetowork'].replace('?', 0)\n",
    "\n",
    "# ******Cleaning vehicleoccupancy - Filling it with zero's (New Category) for now*******\n",
    "census_train_data['vehicleoccupancy'] = census_train_data['vehicleoccupancy'].replace('?', 0)\n",
    "census_test_data['vehicleoccupancy'] = census_test_data['vehicleoccupancy'].replace('?', 0)\n",
    "\n",
    "# Cleaning meansoftransport - Filling it with zero's (New Category) as non-worked is assumed that he/she will not travel to work\n",
    "census_train_data['meansoftransport'] = census_train_data['meansoftransport'].replace('?', 0)\n",
    "census_test_data['meansoftransport'] = census_test_data['meansoftransport'].replace('?', 0)\n",
    "\n",
    "# Cleaning schoolenrollment - Filling it with zero's (New Category) as the least age for enrollment is atleast 5 Years\n",
    "# 0 - No, less than 3 years\n",
    "census_train_data['schoolenrollment'] = census_train_data['schoolenrollment'].replace('?', 0)\n",
    "census_test_data['schoolenrollment'] = census_test_data['schoolenrollment'].replace('?', 0)\n",
    "\n",
    "# Cleaning educationalattain - Filling it with zero's (New Category) as the least age for enrollment is atleast 5 Years\n",
    "# 1 - No Education Attainment, less than 3 years\n",
    "census_train_data['educationalattain'] = census_train_data['educationalattain'].replace('?', 1)\n",
    "census_test_data['educationalattain'] = census_test_data['educationalattain'].replace('?', 1)\n",
    "\n",
    "# Cleaning meansoftransport - Filling it with zero's (New Category) as non-worked is assumed that he/she will not travel to work\n",
    "census_train_data['workarrivaltime'] = census_train_data['workarrivaltime'].replace('?', 0)\n",
    "census_test_data['workarrivaltime'] = census_test_data['workarrivaltime'].replace('?', 0)\n",
    "\n",
    "# Cleaning hoursworkperweek - Filling it with zero's (New Category) for non-worker\n",
    "census_train_data['hoursworkperweek'] = census_train_data['hoursworkperweek'].replace('?', 0)\n",
    "census_test_data['hoursworkperweek'] = census_test_data['hoursworkperweek'].replace('?', 0)\n",
    "\n",
    "# Cleaning degreefield - Filling it with 1111 (New Category) for unknown degree\n",
    "# 1000, less than bachelor's degree (Related to educationattain)\n",
    "census_train_data['degreefield'] = census_train_data['degreefield'].replace('?', 1000)\n",
    "census_test_data['degreefield'] = census_test_data['degreefield'].replace('?', 1000)\n",
    "\n",
    "# Cleaning industryworkedin - Filling it with 1111 (New Category) for unknown degree\n",
    "# 100, less than 16 years old/not in labor force who last worked more than 5 years ago or never worked\n",
    "census_train_data['industryworkedin'] = census_train_data['industryworkedin'].replace('?', 100)\n",
    "census_test_data['industryworkedin'] = census_test_data['industryworkedin'].replace('?', 100)\n",
    "\n",
    "census_train_data.head()"
   ]
  },
  {
   "cell_type": "markdown",
   "metadata": {},
   "source": [
    "## Feature Engineering"
   ]
  },
  {
   "cell_type": "markdown",
   "metadata": {},
   "source": [
    "Features Dropped:\n",
    "- idnum"
   ]
  },
  {
   "cell_type": "code",
   "execution_count": 5,
   "metadata": {
    "collapsed": true
   },
   "outputs": [],
   "source": [
    "# Taking only the features that is important for now\n",
    "X = census_train_data[['age', 'workerclass', 'interestincome', 'traveltimetowork', 'vehicleoccupancy',\\\n",
    "                       'meansoftransport', 'marital', 'schoolenrollment', 'educationalattain', 'sex', \\\n",
    "                       'workarrivaltime', 'hoursworkperweek', 'ancestry','degreefield', 'industryworkedin']]\n",
    "# Taking the labels (Income)\n",
    "y = census_train_data['wages']"
   ]
  },
  {
   "cell_type": "code",
   "execution_count": 6,
   "metadata": {
    "collapsed": true
   },
   "outputs": [],
   "source": [
    "cols = X.columns.values"
   ]
  },
  {
   "cell_type": "code",
   "execution_count": 7,
   "metadata": {},
   "outputs": [
    {
     "name": "stderr",
     "output_type": "stream",
     "text": [
      "/anaconda3/lib/python3.6/site-packages/ipykernel_launcher.py:5: FutureWarning: reshape is deprecated and will raise in a subsequent release. Please use .values.reshape(...) instead\n",
      "  \"\"\"\n",
      "/anaconda3/lib/python3.6/site-packages/ipykernel_launcher.py:8: FutureWarning: reshape is deprecated and will raise in a subsequent release. Please use .values.reshape(...) instead\n",
      "  \n"
     ]
    }
   ],
   "source": [
    "from sklearn.preprocessing import RobustScaler\n",
    "\n",
    "scaler = RobustScaler()\n",
    "scaler_x = scaler.fit(X)\n",
    "scaler_y = scaler.fit(y.reshape(-1, 1))\n",
    "\n",
    "scaled_train = scaler_x.transform(X)\n",
    "scaled_y = scaler_y.transform(y.reshape(-1, 1))\n",
    "\n",
    "scaled_train = pd.DataFrame(scaled_train, columns=cols)\n",
    "scaled_y = pd.DataFrame(y, columns = [\"wages\"])"
   ]
  },
  {
   "cell_type": "code",
   "execution_count": 8,
   "metadata": {},
   "outputs": [
    {
     "data": {
      "text/html": [
       "<div>\n",
       "<style>\n",
       "    .dataframe thead tr:only-child th {\n",
       "        text-align: right;\n",
       "    }\n",
       "\n",
       "    .dataframe thead th {\n",
       "        text-align: left;\n",
       "    }\n",
       "\n",
       "    .dataframe tbody tr th {\n",
       "        vertical-align: top;\n",
       "    }\n",
       "</style>\n",
       "<table border=\"1\" class=\"dataframe\">\n",
       "  <thead>\n",
       "    <tr style=\"text-align: right;\">\n",
       "      <th></th>\n",
       "      <th>age</th>\n",
       "      <th>workerclass</th>\n",
       "      <th>interestincome</th>\n",
       "      <th>traveltimetowork</th>\n",
       "      <th>vehicleoccupancy</th>\n",
       "      <th>meansoftransport</th>\n",
       "      <th>marital</th>\n",
       "      <th>schoolenrollment</th>\n",
       "      <th>educationalattain</th>\n",
       "      <th>sex</th>\n",
       "      <th>workarrivaltime</th>\n",
       "      <th>hoursworkperweek</th>\n",
       "      <th>ancestry</th>\n",
       "      <th>degreefield</th>\n",
       "      <th>industryworkedin</th>\n",
       "    </tr>\n",
       "  </thead>\n",
       "  <tbody>\n",
       "    <tr>\n",
       "      <th>count</th>\n",
       "      <td>1184.000000</td>\n",
       "      <td>1184.000000</td>\n",
       "      <td>1184.000000</td>\n",
       "      <td>1184.000000</td>\n",
       "      <td>1184.000000</td>\n",
       "      <td>1184.000000</td>\n",
       "      <td>1184.000000</td>\n",
       "      <td>1184.000000</td>\n",
       "      <td>1184.000000</td>\n",
       "      <td>1184.000000</td>\n",
       "      <td>1184.000000</td>\n",
       "      <td>1184.000000</td>\n",
       "      <td>1184.000000</td>\n",
       "      <td>1184.000000</td>\n",
       "      <td>1184.000000</td>\n",
       "    </tr>\n",
       "    <tr>\n",
       "      <th>mean</th>\n",
       "      <td>-0.176082</td>\n",
       "      <td>-0.177051</td>\n",
       "      <td>-0.114718</td>\n",
       "      <td>-0.176733</td>\n",
       "      <td>-0.177075</td>\n",
       "      <td>-0.177051</td>\n",
       "      <td>-0.177026</td>\n",
       "      <td>-0.177059</td>\n",
       "      <td>-0.176696</td>\n",
       "      <td>-0.177051</td>\n",
       "      <td>-0.175937</td>\n",
       "      <td>-0.176600</td>\n",
       "      <td>-0.167937</td>\n",
       "      <td>-0.130330</td>\n",
       "      <td>-0.079877</td>\n",
       "    </tr>\n",
       "    <tr>\n",
       "      <th>std</th>\n",
       "      <td>0.000418</td>\n",
       "      <td>0.000040</td>\n",
       "      <td>0.505076</td>\n",
       "      <td>0.000515</td>\n",
       "      <td>0.000013</td>\n",
       "      <td>0.000057</td>\n",
       "      <td>0.000038</td>\n",
       "      <td>0.000010</td>\n",
       "      <td>0.000056</td>\n",
       "      <td>0.000010</td>\n",
       "      <td>0.001268</td>\n",
       "      <td>0.000440</td>\n",
       "      <td>0.008410</td>\n",
       "      <td>0.040502</td>\n",
       "      <td>0.076139</td>\n",
       "    </tr>\n",
       "    <tr>\n",
       "      <th>min</th>\n",
       "      <td>-0.176771</td>\n",
       "      <td>-0.177083</td>\n",
       "      <td>-0.206250</td>\n",
       "      <td>-0.177083</td>\n",
       "      <td>-0.177083</td>\n",
       "      <td>-0.177083</td>\n",
       "      <td>-0.177063</td>\n",
       "      <td>-0.177063</td>\n",
       "      <td>-0.176771</td>\n",
       "      <td>-0.177063</td>\n",
       "      <td>-0.177083</td>\n",
       "      <td>-0.177083</td>\n",
       "      <td>-0.177021</td>\n",
       "      <td>-0.156250</td>\n",
       "      <td>-0.175000</td>\n",
       "    </tr>\n",
       "    <tr>\n",
       "      <th>25%</th>\n",
       "      <td>-0.176437</td>\n",
       "      <td>-0.177083</td>\n",
       "      <td>-0.177083</td>\n",
       "      <td>-0.177083</td>\n",
       "      <td>-0.177083</td>\n",
       "      <td>-0.177083</td>\n",
       "      <td>-0.177063</td>\n",
       "      <td>-0.177063</td>\n",
       "      <td>-0.176750</td>\n",
       "      <td>-0.177063</td>\n",
       "      <td>-0.177083</td>\n",
       "      <td>-0.177083</td>\n",
       "      <td>-0.176021</td>\n",
       "      <td>-0.156250</td>\n",
       "      <td>-0.175000</td>\n",
       "    </tr>\n",
       "    <tr>\n",
       "      <th>50%</th>\n",
       "      <td>-0.176104</td>\n",
       "      <td>-0.177063</td>\n",
       "      <td>-0.177083</td>\n",
       "      <td>-0.177010</td>\n",
       "      <td>-0.177083</td>\n",
       "      <td>-0.177063</td>\n",
       "      <td>-0.177042</td>\n",
       "      <td>-0.177063</td>\n",
       "      <td>-0.176687</td>\n",
       "      <td>-0.177042</td>\n",
       "      <td>-0.175937</td>\n",
       "      <td>-0.176458</td>\n",
       "      <td>-0.171646</td>\n",
       "      <td>-0.156250</td>\n",
       "      <td>-0.048333</td>\n",
       "    </tr>\n",
       "    <tr>\n",
       "      <th>75%</th>\n",
       "      <td>-0.175771</td>\n",
       "      <td>-0.177042</td>\n",
       "      <td>-0.177083</td>\n",
       "      <td>-0.176458</td>\n",
       "      <td>-0.177063</td>\n",
       "      <td>-0.177063</td>\n",
       "      <td>-0.176979</td>\n",
       "      <td>-0.177063</td>\n",
       "      <td>-0.176646</td>\n",
       "      <td>-0.177042</td>\n",
       "      <td>-0.175042</td>\n",
       "      <td>-0.176250</td>\n",
       "      <td>-0.157896</td>\n",
       "      <td>-0.108313</td>\n",
       "      <td>-0.013073</td>\n",
       "    </tr>\n",
       "    <tr>\n",
       "      <th>max</th>\n",
       "      <td>-0.175104</td>\n",
       "      <td>-0.176896</td>\n",
       "      <td>6.677083</td>\n",
       "      <td>-0.174208</td>\n",
       "      <td>-0.176917</td>\n",
       "      <td>-0.176833</td>\n",
       "      <td>-0.176979</td>\n",
       "      <td>-0.177021</td>\n",
       "      <td>-0.176583</td>\n",
       "      <td>-0.177042</td>\n",
       "      <td>-0.171208</td>\n",
       "      <td>-0.175021</td>\n",
       "      <td>-0.156271</td>\n",
       "      <td>-0.043708</td>\n",
       "      <td>0.029583</td>\n",
       "    </tr>\n",
       "  </tbody>\n",
       "</table>\n",
       "</div>"
      ],
      "text/plain": [
       "               age  workerclass  interestincome  traveltimetowork  \\\n",
       "count  1184.000000  1184.000000     1184.000000       1184.000000   \n",
       "mean     -0.176082    -0.177051       -0.114718         -0.176733   \n",
       "std       0.000418     0.000040        0.505076          0.000515   \n",
       "min      -0.176771    -0.177083       -0.206250         -0.177083   \n",
       "25%      -0.176437    -0.177083       -0.177083         -0.177083   \n",
       "50%      -0.176104    -0.177063       -0.177083         -0.177010   \n",
       "75%      -0.175771    -0.177042       -0.177083         -0.176458   \n",
       "max      -0.175104    -0.176896        6.677083         -0.174208   \n",
       "\n",
       "       vehicleoccupancy  meansoftransport      marital  schoolenrollment  \\\n",
       "count       1184.000000       1184.000000  1184.000000       1184.000000   \n",
       "mean          -0.177075         -0.177051    -0.177026         -0.177059   \n",
       "std            0.000013          0.000057     0.000038          0.000010   \n",
       "min           -0.177083         -0.177083    -0.177063         -0.177063   \n",
       "25%           -0.177083         -0.177083    -0.177063         -0.177063   \n",
       "50%           -0.177083         -0.177063    -0.177042         -0.177063   \n",
       "75%           -0.177063         -0.177063    -0.176979         -0.177063   \n",
       "max           -0.176917         -0.176833    -0.176979         -0.177021   \n",
       "\n",
       "       educationalattain          sex  workarrivaltime  hoursworkperweek  \\\n",
       "count        1184.000000  1184.000000      1184.000000       1184.000000   \n",
       "mean           -0.176696    -0.177051        -0.175937         -0.176600   \n",
       "std             0.000056     0.000010         0.001268          0.000440   \n",
       "min            -0.176771    -0.177063        -0.177083         -0.177083   \n",
       "25%            -0.176750    -0.177063        -0.177083         -0.177083   \n",
       "50%            -0.176687    -0.177042        -0.175937         -0.176458   \n",
       "75%            -0.176646    -0.177042        -0.175042         -0.176250   \n",
       "max            -0.176583    -0.177042        -0.171208         -0.175021   \n",
       "\n",
       "          ancestry  degreefield  industryworkedin  \n",
       "count  1184.000000  1184.000000       1184.000000  \n",
       "mean     -0.167937    -0.130330         -0.079877  \n",
       "std       0.008410     0.040502          0.076139  \n",
       "min      -0.177021    -0.156250         -0.175000  \n",
       "25%      -0.176021    -0.156250         -0.175000  \n",
       "50%      -0.171646    -0.156250         -0.048333  \n",
       "75%      -0.157896    -0.108313         -0.013073  \n",
       "max      -0.156271    -0.043708          0.029583  "
      ]
     },
     "execution_count": 8,
     "metadata": {},
     "output_type": "execute_result"
    }
   ],
   "source": [
    "scaled_train.describe()"
   ]
  },
  {
   "cell_type": "code",
   "execution_count": 9,
   "metadata": {
    "collapsed": true
   },
   "outputs": [],
   "source": [
    "### Plotting function for Information Gain of each feature\n",
    "\n",
    "def plot_info(res, title):\n",
    "    \n",
    "    feat = res.keys()\n",
    "    imp = res.values()\n",
    "    # Plotting Feature_Names on X-Axis and Feature_importances on Y-Axis\n",
    "    plt.figure(figsize=(12, 8))\n",
    "    plt.bar(range(len(feat)), imp)\n",
    "    plt.xticks(range(len(feat)), feat, rotation=40)\n",
    "    plt.xlabel('Feature Name')\n",
    "    plt.ylabel('Feature Importance')\n",
    "    plt.title(title)\n",
    "    plt.show()"
   ]
  },
  {
   "cell_type": "code",
   "execution_count": 12,
   "metadata": {},
   "outputs": [
    {
     "name": "stderr",
     "output_type": "stream",
     "text": [
      "/anaconda3/lib/python3.6/site-packages/sklearn/utils/validation.py:475: DataConversionWarning: Data with input dtype int64 was converted to float64 by the scale function.\n",
      "  warnings.warn(msg, DataConversionWarning)\n"
     ]
    },
    {
     "data": {
      "image/png": "[encoded data removed]",
      "text/plain": [
       "<matplotlib.figure.Figure at 0x1a106de7f0>"
      ]
     },
     "metadata": {},
     "output_type": "display_data"
    }
   ],
   "source": [
    "from sklearn.feature_selection import mutual_info_regression\n",
    "import matplotlib.pyplot as plt\n",
    "\n",
    "discrete_feat = ['age', 'workerclass', 'interestincome', 'traveltimetowork', 'vehicleoccupancy',\\\n",
    "                       'meansoftransport', 'marital', 'schoolenrollment', 'educationalattain', 'sex', \\\n",
    "                       'workarrivaltime', 'hoursworkperweek', 'ancestry','degreefield', 'industryworkedin']\n",
    "dis_mutual_info = mutual_info_regression(scaled_train[discrete_feat], y, copy = True)\n",
    "\n",
    "dis_res = dict(zip(discrete_feat, dis_mutual_info))\n",
    "plot_info(dis_res, \"Mutual Information of Discrete Features (treated automatically)\")"
   ]
  },
  {
   "cell_type": "code",
   "execution_count": 13,
   "metadata": {},
   "outputs": [
    {
     "name": "stderr",
     "output_type": "stream",
     "text": [
      "/anaconda3/lib/python3.6/site-packages/sklearn/utils/validation.py:475: DataConversionWarning: Data with input dtype int64 was converted to float64 by the scale function.\n",
      "  warnings.warn(msg, DataConversionWarning)\n"
     ]
    },
    {
     "data": {
      "image/png": "[encoded data removed]",
      "text/plain": [
       "<matplotlib.figure.Figure at 0x1a105fbb38>"
      ]
     },
     "metadata": {},
     "output_type": "display_data"
    }
   ],
   "source": [
    "dis_mutual_info = mutual_info_regression(scaled_train[discrete_feat], y,   discrete_features = True, copy = True)\n",
    "\n",
    "dis_res = dict(zip(discrete_feat, dis_mutual_info))\n",
    "plot_info(dis_res, \"Mutual Information of Discrete Features (treated as discrete )\")"
   ]
  },
  {
   "cell_type": "code",
   "execution_count": 14,
   "metadata": {},
   "outputs": [
    {
     "name": "stderr",
     "output_type": "stream",
     "text": [
      "/anaconda3/lib/python3.6/site-packages/sklearn/utils/validation.py:475: DataConversionWarning: Data with input dtype int64 was converted to float64 by the scale function.\n",
      "  warnings.warn(msg, DataConversionWarning)\n"
     ]
    },
    {
     "data": {
      "text/plain": [
       "array([ 1,  3,  5, 11, 14])"
      ]
     },
     "execution_count": 14,
     "metadata": {},
     "output_type": "execute_result"
    }
   ],
   "source": [
    "from sklearn.feature_selection import SelectKBest\n",
    "\n",
    "kbest = SelectKBest(mutual_info_regression, k=5)\n",
    "kbest.fit(scaled_train, y)\n",
    "kbest.get_support(indices=True)"
   ]
  },
  {
   "cell_type": "code",
   "execution_count": 15,
   "metadata": {},
   "outputs": [
    {
     "name": "stdout",
     "output_type": "stream",
     "text": [
      "0 age\n",
      "1 workerclass\n",
      "2 interestincome\n",
      "3 traveltimetowork\n",
      "4 vehicleoccupancy\n",
      "5 meansoftransport\n",
      "6 marital\n",
      "7 schoolenrollment\n",
      "8 educationalattain\n",
      "9 sex\n",
      "10 workarrivaltime\n",
      "11 hoursworkperweek\n",
      "12 ancestry\n",
      "13 degreefield\n",
      "14 industryworkedin\n"
     ]
    }
   ],
   "source": [
    "i = 0\n",
    "for col in scaled_train:\n",
    "    print(i, col)\n",
    "    i += 1"
   ]
  },
  {
   "cell_type": "code",
   "execution_count": 16,
   "metadata": {},
   "outputs": [
    {
     "data": {
      "text/html": [
       "<div>\n",
       "<style>\n",
       "    .dataframe thead tr:only-child th {\n",
       "        text-align: right;\n",
       "    }\n",
       "\n",
       "    .dataframe thead th {\n",
       "        text-align: left;\n",
       "    }\n",
       "\n",
       "    .dataframe tbody tr th {\n",
       "        vertical-align: top;\n",
       "    }\n",
       "</style>\n",
       "<table border=\"1\" class=\"dataframe\">\n",
       "  <thead>\n",
       "    <tr style=\"text-align: right;\">\n",
       "      <th></th>\n",
       "      <th>age</th>\n",
       "      <th>workerclass</th>\n",
       "      <th>interestincome</th>\n",
       "      <th>traveltimetowork</th>\n",
       "      <th>vehicleoccupancy</th>\n",
       "      <th>meansoftransport</th>\n",
       "      <th>schoolenrollment</th>\n",
       "      <th>educationalattain</th>\n",
       "      <th>workarrivaltime</th>\n",
       "      <th>hoursworkperweek</th>\n",
       "      <th>degreefield</th>\n",
       "      <th>industryworkedin</th>\n",
       "    </tr>\n",
       "  </thead>\n",
       "  <tbody>\n",
       "    <tr>\n",
       "      <th>0</th>\n",
       "      <td>-0.175875</td>\n",
       "      <td>-0.177021</td>\n",
       "      <td>-0.177083</td>\n",
       "      <td>-0.176250</td>\n",
       "      <td>-0.177042</td>\n",
       "      <td>-0.177063</td>\n",
       "      <td>-0.177063</td>\n",
       "      <td>-0.176625</td>\n",
       "      <td>-0.175333</td>\n",
       "      <td>-0.176250</td>\n",
       "      <td>-0.129167</td>\n",
       "      <td>-0.013125</td>\n",
       "    </tr>\n",
       "    <tr>\n",
       "      <th>1</th>\n",
       "      <td>-0.176375</td>\n",
       "      <td>-0.177021</td>\n",
       "      <td>-0.177083</td>\n",
       "      <td>-0.176875</td>\n",
       "      <td>-0.177063</td>\n",
       "      <td>-0.177063</td>\n",
       "      <td>-0.177063</td>\n",
       "      <td>-0.176750</td>\n",
       "      <td>-0.173583</td>\n",
       "      <td>-0.176250</td>\n",
       "      <td>-0.156250</td>\n",
       "      <td>-0.013333</td>\n",
       "    </tr>\n",
       "    <tr>\n",
       "      <th>2</th>\n",
       "      <td>-0.175896</td>\n",
       "      <td>-0.177042</td>\n",
       "      <td>-0.177083</td>\n",
       "      <td>-0.176771</td>\n",
       "      <td>-0.176917</td>\n",
       "      <td>-0.177063</td>\n",
       "      <td>-0.177063</td>\n",
       "      <td>-0.176750</td>\n",
       "      <td>-0.175000</td>\n",
       "      <td>-0.176458</td>\n",
       "      <td>-0.156250</td>\n",
       "      <td>-0.002292</td>\n",
       "    </tr>\n",
       "    <tr>\n",
       "      <th>3</th>\n",
       "      <td>-0.176729</td>\n",
       "      <td>-0.177083</td>\n",
       "      <td>-0.177083</td>\n",
       "      <td>-0.177083</td>\n",
       "      <td>-0.177083</td>\n",
       "      <td>-0.177083</td>\n",
       "      <td>-0.177042</td>\n",
       "      <td>-0.176771</td>\n",
       "      <td>-0.177083</td>\n",
       "      <td>-0.177083</td>\n",
       "      <td>-0.156250</td>\n",
       "      <td>-0.175000</td>\n",
       "    </tr>\n",
       "    <tr>\n",
       "      <th>4</th>\n",
       "      <td>-0.176208</td>\n",
       "      <td>-0.177063</td>\n",
       "      <td>-0.177083</td>\n",
       "      <td>-0.176667</td>\n",
       "      <td>-0.177063</td>\n",
       "      <td>-0.177063</td>\n",
       "      <td>-0.177063</td>\n",
       "      <td>-0.176625</td>\n",
       "      <td>-0.175167</td>\n",
       "      <td>-0.176146</td>\n",
       "      <td>-0.072896</td>\n",
       "      <td>-0.031458</td>\n",
       "    </tr>\n",
       "  </tbody>\n",
       "</table>\n",
       "</div>"
      ],
      "text/plain": [
       "        age  workerclass  interestincome  traveltimetowork  vehicleoccupancy  \\\n",
       "0 -0.175875    -0.177021       -0.177083         -0.176250         -0.177042   \n",
       "1 -0.176375    -0.177021       -0.177083         -0.176875         -0.177063   \n",
       "2 -0.175896    -0.177042       -0.177083         -0.176771         -0.176917   \n",
       "3 -0.176729    -0.177083       -0.177083         -0.177083         -0.177083   \n",
       "4 -0.176208    -0.177063       -0.177083         -0.176667         -0.177063   \n",
       "\n",
       "   meansoftransport  schoolenrollment  educationalattain  workarrivaltime  \\\n",
       "0         -0.177063         -0.177063          -0.176625        -0.175333   \n",
       "1         -0.177063         -0.177063          -0.176750        -0.173583   \n",
       "2         -0.177063         -0.177063          -0.176750        -0.175000   \n",
       "3         -0.177083         -0.177042          -0.176771        -0.177083   \n",
       "4         -0.177063         -0.177063          -0.176625        -0.175167   \n",
       "\n",
       "   hoursworkperweek  degreefield  industryworkedin  \n",
       "0         -0.176250    -0.129167         -0.013125  \n",
       "1         -0.176250    -0.156250         -0.013333  \n",
       "2         -0.176458    -0.156250         -0.002292  \n",
       "3         -0.177083    -0.156250         -0.175000  \n",
       "4         -0.176146    -0.072896         -0.031458  "
      ]
     },
     "execution_count": 16,
     "metadata": {},
     "output_type": "execute_result"
    }
   ],
   "source": [
    "bad_feat = ['marital', 'sex', 'ancestry']\n",
    "trimmed_train = scaled_train.drop(bad_feat, axis=1)\n",
    "trimmed_train.head()"
   ]
  },
  {
   "cell_type": "code",
   "execution_count": 49,
   "metadata": {},
   "outputs": [
    {
     "data": {
      "image/png": "[encoded data removed]",
      "text/plain": [
       "<matplotlib.figure.Figure at 0x1a10354ef0>"
      ]
     },
     "metadata": {},
     "output_type": "display_data"
    }
   ],
   "source": [
    "# Taking only the features that is important for now\n",
    "X = census_train_data[['age', 'workerclass', 'interestincome', 'traveltimetowork', 'vehicleoccupancy', \\\n",
    "                       'meansoftransport', 'educationalattain', \\\n",
    "                       'workarrivaltime', 'hoursworkperweek', 'degreefield', 'industryworkedin']]\n",
    "# Taking the labels (Income)\n",
    "y = census_train_data['wages']\n",
    "#y = (y - y.mean())/(y.max()-y.min())\n",
    "y.quantile([0.33, 0.67])\n",
    "\n",
    "figure = plt.figure(figsize=(15, 5))\n",
    "axes = figure.add_subplot(1, 1, 1)\n",
    "axes.boxplot(y, 0, 'rs', 0, 0.75, widths=[0.75])\n",
    "plt.subplots_adjust(left=0.1, right=0.9, top=0.6, bottom=0.4)\n",
    "plt.show()"
   ]
  },
  {
   "cell_type": "code",
   "execution_count": 34,
   "metadata": {},
   "outputs": [
    {
     "name": "stdout",
     "output_type": "stream",
     "text": [
      "Mean Squared Error:0.008362989277129992\n"
     ]
    },
    {
     "name": "stderr",
     "output_type": "stream",
     "text": [
      "/anaconda3/lib/python3.6/site-packages/sklearn/model_selection/_split.py:2026: FutureWarning: From version 0.21, test_size will always complement train_size unless both are specified.\n",
      "  FutureWarning)\n"
     ]
    }
   ],
   "source": [
    "from sklearn.metrics import mean_squared_error as mse\n",
    "from sklearn.model_selection import train_test_split\n",
    "\n",
    "# 20% split to test set as it will be used in the very end\n",
    "x_train, x_test, y_train, y_test = np.array(train_test_split(X, y, train_size = 0.7))\n",
    "\n",
    "y_train = np.array(y_train)\n",
    "mean = y_train.mean()\n",
    "preds = []\n",
    "\n",
    "for i in range(len(y_test)):\n",
    "    \n",
    "    preds.append(mean)\n",
    "    \n",
    "print(\"Mean Squared Error:\" + str(mse(y_test, preds)))"
   ]
  },
  {
   "cell_type": "code",
   "execution_count": 35,
   "metadata": {},
   "outputs": [
    {
     "name": "stdout",
     "output_type": "stream",
     "text": [
      "0.011745199773481317\n"
     ]
    },
    {
     "name": "stderr",
     "output_type": "stream",
     "text": [
      "/anaconda3/lib/python3.6/site-packages/sklearn/model_selection/_split.py:2026: FutureWarning: From version 0.21, test_size will always complement train_size unless both are specified.\n",
      "  FutureWarning)\n"
     ]
    }
   ],
   "source": [
    "from sklearn.linear_model import LinearRegression\n",
    "\n",
    "x_train, x_test, y_train, y_test = np.array(train_test_split(X, y, train_size = 0.7))\n",
    "\n",
    "LR_model = LinearRegression()\n",
    "LR_model.fit(x_train, y_train)\n",
    "preds = LR_model.predict(x_test)\n",
    "MSE = mse(y_test, preds)\n",
    "print(MSE)"
   ]
  },
  {
   "cell_type": "code",
   "execution_count": 27,
   "metadata": {},
   "outputs": [
    {
     "data": {
      "text/plain": [
       "-0.012317911769858733"
      ]
     },
     "execution_count": 27,
     "metadata": {},
     "output_type": "execute_result"
    }
   ],
   "source": [
    "preds[0]"
   ]
  },
  {
   "cell_type": "code",
   "execution_count": 32,
   "metadata": {},
   "outputs": [
    {
     "data": {
      "text/plain": [
       "-1.4276305363106426e-17"
      ]
     },
     "execution_count": 32,
     "metadata": {},
     "output_type": "execute_result"
    }
   ],
   "source": [
    "y.mean()"
   ]
  },
  {
   "cell_type": "code",
   "execution_count": 123,
   "metadata": {
    "collapsed": true
   },
   "outputs": [],
   "source": [
    "from sklearn.preprocessing import StandardScaler\n",
    "from sklearn.decomposition import PCA\n",
    "from sklearn.preprocessing import scale"
   ]
  },
  {
   "cell_type": "code",
   "execution_count": 124,
   "metadata": {},
   "outputs": [
    {
     "name": "stderr",
     "output_type": "stream",
     "text": [
      "/anaconda3/lib/python3.6/site-packages/sklearn/utils/validation.py:475: DataConversionWarning: Data with input dtype object was converted to float64 by StandardScaler.\n",
      "  warnings.warn(msg, DataConversionWarning)\n"
     ]
    },
    {
     "data": {
      "text/plain": [
       "PCA(copy=True, iterated_power='auto', n_components=12, random_state=None,\n",
       "  svd_solver='auto', tol=0.0, whiten=False)"
      ]
     },
     "execution_count": 124,
     "metadata": {},
     "output_type": "execute_result"
    }
   ],
   "source": [
    "# Convert to numpy arrays\n",
    "X_PCA = X.values\n",
    "\n",
    "# Fit and Transform\n",
    "scaler = StandardScaler()\n",
    "scaler.fit(X_PCA)\n",
    "X_scaled_tranform = scaler.transform(X_PCA)\n",
    "pca = PCA(n_components=12)\n",
    "pca.fit(X_scaled_tranform)"
   ]
  },
  {
   "cell_type": "code",
   "execution_count": 125,
   "metadata": {},
   "outputs": [
    {
     "data": {
      "text/plain": [
       "Text(0.5,1,'PCA Components with Explained Variance')"
      ]
     },
     "execution_count": 125,
     "metadata": {},
     "output_type": "execute_result"
    },
    {
     "data": {
      "image/png": "[encoded data removed]",
      "text/plain": [
       "<matplotlib.figure.Figure at 0x1a200099b0>"
      ]
     },
     "metadata": {},
     "output_type": "display_data"
    }
   ],
   "source": [
    "import matplotlib.pyplot as plt\n",
    "%matplotlib inline\n",
    "# Explained Variance\n",
    "variance = pca.explained_variance_ratio_\n",
    "\n",
    "# Plotting PCA Components with Explained Variance\n",
    "plt.plot(variance, color='g')\n",
    "plt.ylabel('Principal Components')\n",
    "plt.ylabel('Proportion of Variance Explained')\n",
    "plt.title('PCA Components with Explained Variance')"
   ]
  },
  {
   "cell_type": "code",
   "execution_count": 126,
   "metadata": {},
   "outputs": [
    {
     "name": "stdout",
     "output_type": "stream",
     "text": [
      "Variance explained by first 10 factors = 0.9279146936850716\n"
     ]
    }
   ],
   "source": [
    "# Perform PCA for 20 Components\n",
    "pca = PCA(n_components=12)\n",
    "X1 = pca.fit_transform(X_scaled_tranform)\n",
    "print (\"Variance explained by first 10 factors = %s\" \\\n",
    "       % (pca.explained_variance_ratio_[0:9].sum()/pca.explained_variance_ratio_.sum()))"
   ]
  },
  {
   "cell_type": "code",
   "execution_count": 127,
   "metadata": {},
   "outputs": [
    {
     "data": {
      "text/plain": [
       "PCA(copy=True, iterated_power='auto', n_components=12, random_state=None,\n",
       "  svd_solver='auto', tol=0.0, whiten=False)"
      ]
     },
     "execution_count": 127,
     "metadata": {},
     "output_type": "execute_result"
    }
   ],
   "source": [
    "# Factor Loading\n",
    "# Selecting the top 10 factors in terms of explained variance\n",
    "pca_factors = pd.DataFrame(pca.components_, columns=X.columns)\n",
    "pca_factors = pca_factors.loc[0:9]\n",
    "pca"
   ]
  },
  {
   "cell_type": "code",
   "execution_count": 128,
   "metadata": {},
   "outputs": [
    {
     "data": {
      "text/html": [
       "<div>\n",
       "<style>\n",
       "    .dataframe thead tr:only-child th {\n",
       "        text-align: right;\n",
       "    }\n",
       "\n",
       "    .dataframe thead th {\n",
       "        text-align: left;\n",
       "    }\n",
       "\n",
       "    .dataframe tbody tr th {\n",
       "        vertical-align: top;\n",
       "    }\n",
       "</style>\n",
       "<table border=\"1\" class=\"dataframe\">\n",
       "  <thead>\n",
       "    <tr style=\"text-align: right;\">\n",
       "      <th></th>\n",
       "      <th>0</th>\n",
       "    </tr>\n",
       "  </thead>\n",
       "  <tbody>\n",
       "    <tr>\n",
       "      <th>0</th>\n",
       "      <td>hoursworkperweek</td>\n",
       "    </tr>\n",
       "    <tr>\n",
       "      <th>1</th>\n",
       "      <td>industryworkedin</td>\n",
       "    </tr>\n",
       "    <tr>\n",
       "      <th>2</th>\n",
       "      <td>workerclass</td>\n",
       "    </tr>\n",
       "    <tr>\n",
       "      <th>3</th>\n",
       "      <td>degreefield</td>\n",
       "    </tr>\n",
       "    <tr>\n",
       "      <th>4</th>\n",
       "      <td>educationalattain</td>\n",
       "    </tr>\n",
       "    <tr>\n",
       "      <th>5</th>\n",
       "      <td>meansoftransport</td>\n",
       "    </tr>\n",
       "    <tr>\n",
       "      <th>6</th>\n",
       "      <td>ancestry</td>\n",
       "    </tr>\n",
       "    <tr>\n",
       "      <th>7</th>\n",
       "      <td>age</td>\n",
       "    </tr>\n",
       "    <tr>\n",
       "      <th>8</th>\n",
       "      <td>vehicleoccupancy</td>\n",
       "    </tr>\n",
       "    <tr>\n",
       "      <th>9</th>\n",
       "      <td>marital</td>\n",
       "    </tr>\n",
       "    <tr>\n",
       "      <th>10</th>\n",
       "      <td>schoolenrollment</td>\n",
       "    </tr>\n",
       "    <tr>\n",
       "      <th>11</th>\n",
       "      <td>sex</td>\n",
       "    </tr>\n",
       "  </tbody>\n",
       "</table>\n",
       "</div>"
      ],
      "text/plain": [
       "                    0\n",
       "0    hoursworkperweek\n",
       "1    industryworkedin\n",
       "2         workerclass\n",
       "3         degreefield\n",
       "4   educationalattain\n",
       "5    meansoftransport\n",
       "6            ancestry\n",
       "7                 age\n",
       "8    vehicleoccupancy\n",
       "9             marital\n",
       "10   schoolenrollment\n",
       "11                sex"
      ]
     },
     "execution_count": 128,
     "metadata": {},
     "output_type": "execute_result"
    }
   ],
   "source": [
    "# Important factors with higher weightage\n",
    "latent_factors = list(set(pd.DataFrame(pca_factors.max())[pd.DataFrame(pca_factors.max()> 0.2)[0]].index)\\\n",
    "                  .union(set(pd.DataFrame(pca_factors.min())[pd.DataFrame(pca_factors.min()< -0.2)[0]].index)))\n",
    "pd.DataFrame(latent_factors)"
   ]
  },
  {
   "cell_type": "code",
   "execution_count": 129,
   "metadata": {},
   "outputs": [
    {
     "data": {
      "text/html": [
       "<div>\n",
       "<style>\n",
       "    .dataframe thead tr:only-child th {\n",
       "        text-align: right;\n",
       "    }\n",
       "\n",
       "    .dataframe thead th {\n",
       "        text-align: left;\n",
       "    }\n",
       "\n",
       "    .dataframe tbody tr th {\n",
       "        vertical-align: top;\n",
       "    }\n",
       "</style>\n",
       "<table border=\"1\" class=\"dataframe\">\n",
       "  <thead>\n",
       "    <tr style=\"text-align: right;\">\n",
       "      <th></th>\n",
       "      <th>hoursworkperweek</th>\n",
       "      <th>industryworkedin</th>\n",
       "      <th>workerclass</th>\n",
       "      <th>degreefield</th>\n",
       "      <th>educationalattain</th>\n",
       "      <th>meansoftransport</th>\n",
       "      <th>ancestry</th>\n",
       "      <th>age</th>\n",
       "      <th>vehicleoccupancy</th>\n",
       "      <th>marital</th>\n",
       "      <th>schoolenrollment</th>\n",
       "      <th>sex</th>\n",
       "    </tr>\n",
       "  </thead>\n",
       "  <tbody>\n",
       "    <tr>\n",
       "      <th>0</th>\n",
       "      <td>0.468274</td>\n",
       "      <td>0.469793</td>\n",
       "      <td>0.363879</td>\n",
       "      <td>0.304033</td>\n",
       "      <td>0.377908</td>\n",
       "      <td>0.270700</td>\n",
       "      <td>-0.058021</td>\n",
       "      <td>-0.149628</td>\n",
       "      <td>0.283338</td>\n",
       "      <td>-0.044471</td>\n",
       "      <td>-0.093334</td>\n",
       "      <td>-0.048504</td>\n",
       "    </tr>\n",
       "    <tr>\n",
       "      <th>1</th>\n",
       "      <td>0.047389</td>\n",
       "      <td>0.118830</td>\n",
       "      <td>0.001120</td>\n",
       "      <td>-0.142647</td>\n",
       "      <td>-0.148792</td>\n",
       "      <td>0.116286</td>\n",
       "      <td>0.212664</td>\n",
       "      <td>-0.582241</td>\n",
       "      <td>-0.058235</td>\n",
       "      <td>0.544659</td>\n",
       "      <td>0.492228</td>\n",
       "      <td>-0.032551</td>\n",
       "    </tr>\n",
       "    <tr>\n",
       "      <th>2</th>\n",
       "      <td>0.227135</td>\n",
       "      <td>0.144212</td>\n",
       "      <td>0.219626</td>\n",
       "      <td>-0.602225</td>\n",
       "      <td>-0.497377</td>\n",
       "      <td>-0.057259</td>\n",
       "      <td>0.021593</td>\n",
       "      <td>0.061614</td>\n",
       "      <td>0.392100</td>\n",
       "      <td>-0.118920</td>\n",
       "      <td>-0.144856</td>\n",
       "      <td>-0.270016</td>\n",
       "    </tr>\n",
       "    <tr>\n",
       "      <th>3</th>\n",
       "      <td>-0.048995</td>\n",
       "      <td>0.040883</td>\n",
       "      <td>-0.094782</td>\n",
       "      <td>0.082430</td>\n",
       "      <td>0.118238</td>\n",
       "      <td>-0.681336</td>\n",
       "      <td>-0.217919</td>\n",
       "      <td>-0.119228</td>\n",
       "      <td>0.557866</td>\n",
       "      <td>0.027161</td>\n",
       "      <td>0.223243</td>\n",
       "      <td>0.280103</td>\n",
       "    </tr>\n",
       "    <tr>\n",
       "      <th>4</th>\n",
       "      <td>-0.069090</td>\n",
       "      <td>-0.114404</td>\n",
       "      <td>0.016268</td>\n",
       "      <td>0.086774</td>\n",
       "      <td>0.077896</td>\n",
       "      <td>-0.065751</td>\n",
       "      <td>-0.619995</td>\n",
       "      <td>-0.085243</td>\n",
       "      <td>-0.080614</td>\n",
       "      <td>0.008455</td>\n",
       "      <td>0.198627</td>\n",
       "      <td>-0.725444</td>\n",
       "    </tr>\n",
       "  </tbody>\n",
       "</table>\n",
       "</div>"
      ],
      "text/plain": [
       "   hoursworkperweek  industryworkedin  workerclass  degreefield  \\\n",
       "0          0.468274          0.469793     0.363879     0.304033   \n",
       "1          0.047389          0.118830     0.001120    -0.142647   \n",
       "2          0.227135          0.144212     0.219626    -0.602225   \n",
       "3         -0.048995          0.040883    -0.094782     0.082430   \n",
       "4         -0.069090         -0.114404     0.016268     0.086774   \n",
       "\n",
       "   educationalattain  meansoftransport  ancestry       age  vehicleoccupancy  \\\n",
       "0           0.377908          0.270700 -0.058021 -0.149628          0.283338   \n",
       "1          -0.148792          0.116286  0.212664 -0.582241         -0.058235   \n",
       "2          -0.497377         -0.057259  0.021593  0.061614          0.392100   \n",
       "3           0.118238         -0.681336 -0.217919 -0.119228          0.557866   \n",
       "4           0.077896         -0.065751 -0.619995 -0.085243         -0.080614   \n",
       "\n",
       "    marital  schoolenrollment       sex  \n",
       "0 -0.044471         -0.093334 -0.048504  \n",
       "1  0.544659          0.492228 -0.032551  \n",
       "2 -0.118920         -0.144856 -0.270016  \n",
       "3  0.027161          0.223243  0.280103  \n",
       "4  0.008455          0.198627 -0.725444  "
      ]
     },
     "execution_count": 129,
     "metadata": {},
     "output_type": "execute_result"
    }
   ],
   "source": [
    "pca_factors_subset = pca_factors[latent_factors]\n",
    "pca_factors_subset.head()"
   ]
  },
  {
   "cell_type": "code",
   "execution_count": 130,
   "metadata": {},
   "outputs": [
    {
     "data": {
      "text/plain": [
       "[]"
      ]
     },
     "execution_count": 130,
     "metadata": {},
     "output_type": "execute_result"
    },
    {
     "data": {
      "image/png": "[encoded data removed]",
      "text/plain": [
       "<matplotlib.figure.Figure at 0x1a2012f400>"
      ]
     },
     "metadata": {},
     "output_type": "display_data"
    }
   ],
   "source": [
    "# Heatmap\n",
    "import seaborn as sns\n",
    "sns.set(rc={'figure.figsize':(12,25)})\n",
    "sns.heatmap(pca_factors_subset.T, cmap='YlGnBu', cbar=True, annot=True, square=True, fmt='.2f', annot_kws={'size': 15}, linewidths=0.5)\n",
    "plt.plot()"
   ]
  },
  {
   "cell_type": "code",
   "execution_count": 102,
   "metadata": {
    "collapsed": true
   },
   "outputs": [],
   "source": [
    "from sklearn.model_selection import train_test_split\n",
    "\"\"\"\n",
    "# Taking only the features that is important for now\n",
    "X = census_train_data[['age', 'workerclass', 'vehicleoccupancy',\\\n",
    "                       'meansoftransport', 'marital', 'schoolenrollment', 'educationalattain', 'sex', 'hoursworkperweek', \\\n",
    "                       'degreefield', 'industryworkedin']]\n",
    "\n",
    "# Taking the labels (Income)\n",
    "Y = census_train_data['wages']\n",
    "\"\"\"\n",
    "# Spliting into 70% for training set and 30% for testing set so we can see our accuracy\n",
    "X_train, x_test, Y_train, y_test = train_test_split(X, Y, test_size=0.3, random_state=0)"
   ]
  },
  {
   "cell_type": "code",
   "execution_count": 77,
   "metadata": {},
   "outputs": [
    {
     "name": "stdout",
     "output_type": "stream",
     "text": [
      "0.4803370786516854\n"
     ]
    }
   ],
   "source": [
    "# Importing C-Support Vector Classification from scikit-learn\n",
    "from sklearn.svm import SVC\n",
    "\n",
    "# Declaring the SVC with no tunning\n",
    "classifier = SVC()\n",
    "\n",
    "# Fitting the data. This is where the SVM will learn\n",
    "classifier.fit(X_train, Y_train)\n",
    "\n",
    "# Predicting the result and giving the accuracy\n",
    "score = classifier.score(x_test, y_test)\n",
    "\n",
    "print(score)"
   ]
  },
  {
   "cell_type": "code",
   "execution_count": 70,
   "metadata": {
    "collapsed": true
   },
   "outputs": [],
   "source": [
    "from sklearn.model_selection import GridSearchCV\n",
    "\n",
    "def svc_param_selection(X, y, nfolds):\n",
    "    Cs = [0.001, 0.01, 0.1, 1, 10]\n",
    "    gammas = [0.001, 0.01, 0.1, 1]\n",
    "    param_grid = {'C': Cs, 'gamma' : gammas}\n",
    "    grid_search = GridSearchCV(svm.SVC(kernel='rbf'), param_grid, cv=nfolds)\n",
    "    grid_search.fit(X, y)\n",
    "    grid_search.best_params_\n",
    "    return grid_search.best_params_"
   ]
  },
  {
   "cell_type": "code",
   "execution_count": 71,
   "metadata": {},
   "outputs": [
    {
     "name": "stderr",
     "output_type": "stream",
     "text": [
      "/anaconda3/lib/python3.6/site-packages/sklearn/model_selection/_split.py:605: Warning: The least populated class in y has only 1 members, which is too few. The minimum number of members in any class cannot be less than n_splits=5.\n",
      "  % (min_groups, self.n_splits)), Warning)\n"
     ]
    },
    {
     "data": {
      "text/plain": [
       "{'C': 1, 'gamma': 0.1}"
      ]
     },
     "execution_count": 71,
     "metadata": {},
     "output_type": "execute_result"
    }
   ],
   "source": [
    "best_params = svc_param_selection(X_train, Y_train, 5)\n",
    "best_params"
   ]
  },
  {
   "cell_type": "code",
   "execution_count": 81,
   "metadata": {},
   "outputs": [
    {
     "name": "stdout",
     "output_type": "stream",
     "text": [
      "0.4803370786516854\n"
     ]
    }
   ],
   "source": [
    "# Importing C-Support Vector Classification from scikit-learn\n",
    "from sklearn.svm import SVC\n",
    "\n",
    "# Declaring the SVC with no tunning\n",
    "classifier = SVC(kernel='rbf', C=1, gamma=0.1)\n",
    "\n",
    "# Fitting the data. This is where the SVM will learn\n",
    "classifier.fit(X_train, Y_train)\n",
    "\n",
    "# Predicting the result and giving the accuracy\n",
    "score = classifier.score(x_test, y_test)\n",
    "\n",
    "print(score)"
   ]
  },
  {
   "cell_type": "code",
   "execution_count": 66,
   "metadata": {},
   "outputs": [
    {
     "data": {
      "text/plain": [
       "0.47191011235955055"
      ]
     },
     "execution_count": 66,
     "metadata": {},
     "output_type": "execute_result"
    }
   ],
   "source": [
    "from sklearn.tree import DecisionTreeClassifier, export_graphviz, export\n",
    "from sklearn import metrics\n",
    "\n",
    "clf_tree = DecisionTreeClassifier(max_depth = 4)\n",
    "clf_tree.fit(X_train, Y_train)\n",
    "\n",
    "tree_predict = clf_tree.predict(x_test)\n",
    "metrics.accuracy_score(y_test, tree_predict)"
   ]
  },
  {
   "cell_type": "code",
   "execution_count": null,
   "metadata": {
    "collapsed": true
   },
   "outputs": [],
   "source": []
  }
 ],
 "metadata": {
  "kernelspec": {
   "display_name": "Python 3",
   "language": "python",
   "name": "python3"
  },
  "language_info": {
   "codemirror_mode": {
    "name": "ipython",
    "version": 3
   },
   "file_extension": ".py",
   "mimetype": "text/x-python",
   "name": "python",
   "nbconvert_exporter": "python",
   "pygments_lexer": "ipython3",
   "version": "3.6.3"
  }
 },
 "nbformat": 4,
 "nbformat_minor": 2
}
