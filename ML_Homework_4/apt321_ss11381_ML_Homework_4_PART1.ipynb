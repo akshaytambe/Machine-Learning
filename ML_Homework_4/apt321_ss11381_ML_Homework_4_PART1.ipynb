{
 "cells": [
  {
   "cell_type": "markdown",
   "metadata": {},
   "source": [
    "# Question 1: Gradient Descent"
   ]
  },
  {
   "cell_type": "code",
   "execution_count": 124,
   "metadata": {},
   "outputs": [
    {
     "data": {
      "image/png": "[encoded data removed]",
      "text/plain": [
       "<matplotlib.figure.Figure at 0x1512cb60f0>"
      ]
     },
     "metadata": {},
     "output_type": "display_data"
    }
   ],
   "source": [
    "import numpy as np\n",
    "import matplotlib.pyplot as plt\n",
    "%matplotlib inline\n",
    "\n",
    "# creating the function and plotting it \n",
    "function = lambda x: (2*(x**4))-(2*(x**3))-(12*(x**2))+6\n",
    "\n",
    "# Get 1000 evenly spaced numbers between -4 and 4 (arbitratil chosen to ensure steep curve)\n",
    "x = np.linspace(-4,4,1000)\n",
    "\n",
    "# Plot the curve\n",
    "plt.plot(x, function(x))\n",
    "plt.show()"
   ]
  },
  {
   "cell_type": "markdown",
   "metadata": {},
   "source": [
    "#### A. What is the value of x at the local minimum and at the global minimum? Find the answer to this question like either by hand with calculus or using matlab or other software"
   ]
  },
  {
   "cell_type": "code",
   "execution_count": 125,
   "metadata": {},
   "outputs": [
    {
     "name": "stdout",
     "output_type": "stream",
     "text": [
      "Optimization terminated successfully.\n",
      "         Current function value: -4.348958\n",
      "         Iterations: 18\n",
      "         Function evaluations: 37\n",
      "Local Minima at x =  -1.3971679687499976\n",
      "Global Minima at x =  2.1471808637959735\n"
     ]
    }
   ],
   "source": [
    "# Verified at: https://www.symbolab.com/solver/calculus-function-extreme-points-calculator/extreme%20f%5Cleft(x%5Cright)%3D%202x%5E%7B4%7D%20%E2%88%92%202x%5E%7B3%7D%20%E2%88%92%2012x%5E%7B2%7D%20%2B%206\n",
    "# Local Minima\n",
    "from scipy.optimize import fmin\n",
    "print(\"Local Minima at x = \",fmin(function,-4)[0])\n",
    "\n",
    "# Global Minima\n",
    "from scipy import optimize\n",
    "x_min = optimize.brent(function)\n",
    "print(\"Global Minima at x = \",optimize.brent(function))"
   ]
  },
  {
   "cell_type": "markdown",
   "metadata": {},
   "source": [
    "#### B. Perform Gradient Descent,  Setting x = −4 and η = 0.001, run gradient descent for 6 iterations (that is, do the update 6 times). Report the values of x and f(x) at the start and after each of the first 6 iterations."
   ]
  },
  {
   "cell_type": "markdown",
   "metadata": {},
   "source": [
    "## 6 iterations"
   ]
  },
  {
   "cell_type": "code",
   "execution_count": 126,
   "metadata": {
    "collapsed": true
   },
   "outputs": [],
   "source": [
    "# To find derivative: http://www.learningaboutelectronics.com/Articles/How-to-find-the-derivative-of-a-function-in-Python.php\n",
    "# The algorithm starts at x=-4\n",
    "cur_x = -4 \n",
    "\n",
    "# Learning rate\n",
    "rate = 0.001 \n",
    "\n",
    "#This tells us when to stop the algorithm\n",
    "precision = 0.000001 \n",
    "\n",
    "previous_step_size = 1 #\n",
    "\n",
    "# maximum number of iterations\n",
    "max_iters = 6 \n",
    "# iteration counter\n",
    "iters = 0 \n",
    "# Gradient of our function \n",
    "df = lambda x: (8*(x**3)) - (6*(x**2)) - (24*x) "
   ]
  },
  {
   "cell_type": "code",
   "execution_count": 128,
   "metadata": {},
   "outputs": [
    {
     "name": "stdout",
     "output_type": "stream",
     "text": [
      "Before entering the iteration x is: -2.4794003442716166, f(x) is: 38.29644231132754\n",
      "\n",
      "\n",
      "The local minimum occurs at -2.4794003442716166\n"
     ]
    }
   ],
   "source": [
    "print(\"Before entering the iteration x is: \"+str(cur_x)+\", f(x) is: \"+ str(function(cur_x))+\"\\n\")\n",
    "while previous_step_size > precision and iters < max_iters:\n",
    "    # Store current x value in prev_x\n",
    "    prev_x = cur_x\n",
    "    # Grad descent\n",
    "    cur_x = cur_x - rate * df(prev_x)\n",
    "    # Change in x\n",
    "    previous_step_size = abs(cur_x - prev_x) \n",
    "    # iteration count\n",
    "    iters = iters+1\n",
    "    # Print iterations\n",
    "    print(\"Iteration \"+str(iters)+\": X = \"+str(cur_x)+\", f(x) = \"+str(function(cur_x))) \n",
    "\n",
    "print(\"\\nThe local minimum occurs at\", cur_x)"
   ]
  },
  {
   "cell_type": "markdown",
   "metadata": {},
   "source": [
    "## 1200 Iterations"
   ]
  },
  {
   "cell_type": "code",
   "execution_count": 129,
   "metadata": {},
   "outputs": [],
   "source": [
    "# To find derivative: http://www.learningaboutelectronics.com/Articles/How-to-find-the-derivative-of-a-function-in-Python.php\n",
    "# The algorithm starts at x=-4\n",
    "cur_x = -4 \n",
    "\n",
    "# Learning rate\n",
    "rate = 0.001 \n",
    "\n",
    "#This tells us when to stop the algorithm\n",
    "precision = 0.000001 \n",
    "\n",
    "previous_step_size = 1 #\n",
    "\n",
    "# maximum number of iterations\n",
    "max_iters = 1200\n",
    "# iteration counter\n",
    "iters = 0 \n",
    "# Gradient of our function \n",
    "df = lambda x: (8*(x**3)) - (6*(x**2)) - (24*x) "
   ]
  },
  {
   "cell_type": "code",
   "execution_count": 130,
   "metadata": {},
   "outputs": [
    {
     "name": "stdout",
     "output_type": "stream",
     "text": [
      "Before entering the iteration x is: -4, f(x) is: 454\n",
      "\n",
      "Iteration 246: X = -1.3972104037610875, f(x) = -4.348957706810287\n",
      "Iteration 247: X = -1.3972092332877633, f(x) = -4.348957708153158\n",
      "Iteration 248: X = -1.397208109187661, f(x) = -4.348957709391726\n",
      "Iteration 249: X = -1.3972070296234085, f(x) = -4.3489577105340995\n",
      "Iteration 250: X = -1.397205992830441, f(x) = -4.348957711587744\n",
      "Iteration 251: X = -1.397204997114115, f(x) = -4.348957712559557\n",
      "\n",
      "The local minimum occurs at -1.397204997114115\n"
     ]
    }
   ],
   "source": [
    "print(\"Before entering the iteration x is: \"+str(cur_x)+\", f(x) is: \"+ str(function(cur_x))+\"\\n\")\n",
    "while previous_step_size > precision and iters < max_iters:\n",
    "    # Store current x value in prev_x\n",
    "    prev_x = cur_x\n",
    "    # Grad descent\n",
    "    cur_x = cur_x - rate * df(prev_x)\n",
    "    # Change in x\n",
    "    previous_step_size = abs(cur_x - prev_x) \n",
    "    # iteration count\n",
    "    iters = iters+1\n",
    "    # Iteration stopped at 251, showing last 6 Iterations\n",
    "    if iters>=246:\n",
    "        # Print iterations\n",
    "        print(\"Iteration \"+str(iters)+\": X = \"+str(cur_x)+\", f(x) = \"+str(function(cur_x))) \n",
    "    \n",
    "print(\"\\nThe local minimum occurs at\", cur_x)"
   ]
  },
  {
   "cell_type": "markdown",
   "metadata": {},
   "source": [
    "#### C. Repeat the previous exercise, but this time, start with x=4."
   ]
  },
  {
   "cell_type": "markdown",
   "metadata": {},
   "source": [
    "## 6 Iterations"
   ]
  },
  {
   "cell_type": "code",
   "execution_count": 131,
   "metadata": {
    "collapsed": true
   },
   "outputs": [],
   "source": [
    "# To find derivative: http://www.learningaboutelectronics.com/Articles/How-to-find-the-derivative-of-a-function-in-Python.php\n",
    "# The algorithm starts at x=-4\n",
    "cur_x = 4 \n",
    "\n",
    "# Learning rate\n",
    "rate = 0.001 \n",
    "\n",
    "#This tells us when to stop the algorithm\n",
    "precision = 0.000001 \n",
    "\n",
    "previous_step_size = 1 #\n",
    "\n",
    "# maximum number of iterations\n",
    "max_iters = 6\n",
    "# iteration counter\n",
    "iters = 0 \n",
    "# Gradient of our function \n",
    "df = lambda x: (8*(x**3)) - (6*(x**2)) - (24*x) "
   ]
  },
  {
   "cell_type": "code",
   "execution_count": 133,
   "metadata": {},
   "outputs": [
    {
     "name": "stdout",
     "output_type": "stream",
     "text": [
      "Before entering the iteration x is: 2.9312689375235244, f(x) is: 0.17557478693807127\n",
      "\n",
      "\n",
      "The local minimum occurs at 2.9312689375235244\n"
     ]
    }
   ],
   "source": [
    "print(\"Before entering the iteration x is: \"+str(cur_x)+\", f(x) is: \"+ str(function(cur_x))+\"\\n\")\n",
    "while previous_step_size > precision and iters < max_iters:\n",
    "    # Store current x value in prev_x\n",
    "    prev_x = cur_x\n",
    "    # Grad descent\n",
    "    cur_x = cur_x - rate * df(prev_x)\n",
    "    # Change in x\n",
    "    previous_step_size = abs(cur_x - prev_x) \n",
    "    # iteration count\n",
    "    iters = iters+1\n",
    "    # Print iterations\n",
    "    print(\"Iteration \"+str(iters)+\": X = \"+str(cur_x)+\", f(x) = \"+str(function(cur_x))) \n",
    "\n",
    "print(\"\\nThe local minimum occurs at\", cur_x)"
   ]
  },
  {
   "cell_type": "markdown",
   "metadata": {},
   "source": [
    "## 1200 Iterations"
   ]
  },
  {
   "cell_type": "code",
   "execution_count": 134,
   "metadata": {
    "collapsed": true
   },
   "outputs": [],
   "source": [
    "# To find derivative: http://www.learningaboutelectronics.com/Articles/How-to-find-the-derivative-of-a-function-in-Python.php\n",
    "# The algorithm starts at x=-4\n",
    "cur_x = 4 \n",
    "\n",
    "# Learning rate\n",
    "rate = 0.001 \n",
    "\n",
    "#This tells us when to stop the algorithm\n",
    "precision = 0.000001 \n",
    "\n",
    "previous_step_size = 1 #\n",
    "\n",
    "# maximum number of iterations\n",
    "max_iters = 1200\n",
    "# iteration counter\n",
    "iters = 0 \n",
    "# Gradient of our function \n",
    "df = lambda x: (8*(x**3)) - (6*(x**2)) - (24*x) "
   ]
  },
  {
   "cell_type": "code",
   "execution_count": 135,
   "metadata": {},
   "outputs": [
    {
     "name": "stdout",
     "output_type": "stream",
     "text": [
      "Before entering the iteration x is: 4, f(x) is: 198\n",
      "\n",
      "Iteration 166: X = 2.1472010808442814, f(x) = -26.611979763452368\n",
      "Iteration 167: X = 2.147199849708826, f(x) = -26.611979764921912\n",
      "Iteration 168: X = 2.147198693530893, f(x) = -26.61197976621797\n",
      "Iteration 169: X = 2.1471976077465786, f(x) = -26.611979767361007\n",
      "Iteration 170: X = 2.1471965880698725, f(x) = -26.611979768369096\n",
      "Iteration 171: X = 2.147195630475738, f(x) = -26.61197976925817\n",
      "\n",
      "The local minimum occurs at 2.147195630475738\n"
     ]
    }
   ],
   "source": [
    "print(\"Before entering the iteration x is: \"+str(cur_x)+\", f(x) is: \"+ str(function(cur_x))+\"\\n\")\n",
    "while previous_step_size > precision and iters < max_iters:\n",
    "    # Store current x value in prev_x\n",
    "    prev_x = cur_x\n",
    "    # Grad descent\n",
    "    cur_x = cur_x - rate * df(prev_x)\n",
    "    # Change in x\n",
    "    previous_step_size = abs(cur_x - prev_x) \n",
    "    # iteration count\n",
    "    iters = iters+1\n",
    "    # Iteration stopped at 171, showing last 6 Iterations\n",
    "    if iters>=166:\n",
    "        # Print iterations\n",
    "        print(\"Iteration \"+str(iters)+\": X = \"+str(cur_x)+\", f(x) = \"+str(function(cur_x))) \n",
    "\n",
    "print(\"\\nThe local minimum occurs at\", cur_x)"
   ]
  },
  {
   "cell_type": "markdown",
   "metadata": {},
   "source": [
    "#### D. Setting x = −4 and η = 0.01, run gradient descent for 1200 iterations. As in the previous two exercises, report the initial values of x and f(x), the next 6 values of x and f(x), and the last 6 values of x and f(x). Compare the results obtained this time to the results obtained above for x = −4 and η = 0.001. What happened?"
   ]
  },
  {
   "cell_type": "code",
   "execution_count": 148,
   "metadata": {
    "collapsed": true
   },
   "outputs": [],
   "source": [
    "# To find derivative: http://www.learningaboutelectronics.com/Articles/How-to-find-the-derivative-of-a-function-in-Python.php\n",
    "# The algorithm starts at x=-4\n",
    "cur_x = -4\n",
    "\n",
    "# Learning rate\n",
    "rate = 0.01 \n",
    "\n",
    "#This tells us when to stop the algorithm\n",
    "precision = 0.000001 \n",
    "\n",
    "previous_step_size = 1 #\n",
    "\n",
    "# maximum number of iterations\n",
    "max_iters = 1200\n",
    "# iteration counter\n",
    "iters = 0 \n",
    "# Gradient of our function \n",
    "df = lambda x: (8*(x**3)) - (6*(x**2)) - (24*x) "
   ]
  },
  {
   "cell_type": "code",
   "execution_count": 149,
   "metadata": {},
   "outputs": [
    {
     "name": "stdout",
     "output_type": "stream",
     "text": [
      "Before entering the iteration x is: -4, f(x) is: 454\n",
      "\n",
      "Iteration 1: X = 1.12, f(x) = -8.71561728\n",
      "Iteration 2: X = 1.35166976, f(x) = -14.187225687602176\n",
      "Iteration 3: X = 1.588129914065571, f(x) = -19.554356180837104\n",
      "Iteration 4: X = 1.8001695002820235, f(x) = -23.55150883046352\n",
      "Iteration 5: X = 1.9599549783032466, f(x) = -25.64204722189585\n",
      "Iteration 6: X = 2.0585082124451546, f(x) = -26.383081197323108\n",
      "Iteration 14: X = 2.147123260359083, f(x) = -26.611979674906664\n",
      "Iteration 15: X = 2.147158327192368, f(x) = -26.61197976044408\n",
      "Iteration 16: X = 2.147172045535117, f(x) = -26.611979773534642\n",
      "Iteration 17: X = 2.147177411923369, f(x) = -26.611979775537804\n",
      "Iteration 18: X = 2.147179511118853, f(x) = -26.611979775844326\n",
      "Iteration 19: X = 2.147180332263948, f(x) = -26.61197977589123\n",
      "\n",
      "The local minimum occurs at 2.147180332263948\n"
     ]
    }
   ],
   "source": [
    "print(\"Before entering the iteration x is: \"+str(cur_x)+\", f(x) is: \"+ str(function(cur_x))+\"\\n\")\n",
    "while previous_step_size > precision and iters < max_iters:\n",
    "    # Store current x value in prev_x\n",
    "    prev_x = cur_x\n",
    "    # Grad descent\n",
    "    cur_x = cur_x - rate * df(prev_x)\n",
    "    # Change in x\n",
    "    previous_step_size = abs(cur_x - prev_x) \n",
    "    # iteration count\n",
    "    iters = iters+1\n",
    "    # Iteration stopped at 19, showing first and last 6 Iterations\n",
    "    if iters<=6:\n",
    "        # Print iterations\n",
    "        print(\"Iteration \"+str(iters)+\": X = \"+str(cur_x)+\", f(x) = \"+str(function(cur_x)))\n",
    "    if iters>=14:\n",
    "        # Print iterations\n",
    "        print(\"Iteration \"+str(iters)+\": X = \"+str(cur_x)+\", f(x) = \"+str(function(cur_x)))\n",
    "\n",
    "print(\"\\nThe local minimum occurs at\", cur_x)"
   ]
  },
  {
   "cell_type": "markdown",
   "metadata": {},
   "source": [
    "#### E. Setting x = −4 and η = 0.1, run gradient descent for 100 iterations. What happened?"
   ]
  },
  {
   "cell_type": "code",
   "execution_count": 174,
   "metadata": {
    "collapsed": true
   },
   "outputs": [],
   "source": [
    "# To find derivative: http://www.learningaboutelectronics.com/Articles/How-to-find-the-derivative-of-a-function-in-Python.php\n",
    "# The algorithm starts at x=-4\n",
    "cur_x = -4\n",
    "\n",
    "# Learning rate\n",
    "rate = 0.1 \n",
    "\n",
    "#This tells us when to stop the algorithm\n",
    "precision = 0.000001 \n",
    "\n",
    "previous_step_size = 1 #\n",
    "\n",
    "# maximum number of iterations\n",
    "max_iters = 100\n",
    "# iteration counter\n",
    "iters = 0 \n",
    "# Gradient of our function \n",
    "df = lambda x: (8*(x**3)) - (6*(x**2)) - (24*x) "
   ]
  },
  {
   "cell_type": "code",
   "execution_count": 175,
   "metadata": {},
   "outputs": [
    {
     "name": "stdout",
     "output_type": "stream",
     "text": [
      "Before entering the iteration x is: -4, f(x) is: 454\n",
      "\n",
      "Iteration 1: X = 47.2, f(x) = 9689505.955200002\n",
      "Iteration 2: X = -82626.05440000002, f(x) = 9.321875746621314e+19\n",
      "Iteration 3: X = 451278842347294.06, f(x) = 8.294875771953852e+58\n",
      "Iteration 4: X = -7.352328532672759e+43, f(x) = 5.8442611657954e+175\n",
      "\n",
      "The local minimum occurs at 3.179542992304705e+131\n"
     ]
    }
   ],
   "source": [
    "print(\"Before entering the iteration x is: \"+str(cur_x)+\", f(x) is: \"+ str(function(cur_x))+\"\\n\")\n",
    "while previous_step_size > precision and iters < max_iters:\n",
    "    try:\n",
    "        # Store current x value in prev_x\n",
    "        prev_x = cur_x\n",
    "        # Grad descent\n",
    "        cur_x = cur_x - rate * df(prev_x)\n",
    "        # Change in x\n",
    "        previous_step_size = abs(cur_x - prev_x) \n",
    "        # iteration count\n",
    "        iters = iters+1\n",
    "        # Print iterations\n",
    "        print(\"Iteration \"+str(iters)+\": X = \"+str(cur_x)+\", f(x) = \"+str(function(cur_x)))\n",
    "    except OverflowError:\n",
    "        break\n",
    "\n",
    "print(\"\\nThe local minimum occurs at\", cur_x)"
   ]
  },
  {
   "cell_type": "markdown",
   "metadata": {},
   "source": [
    "#### Gradient Descent Shuffling too much!!"
   ]
  },
  {
   "cell_type": "code",
   "execution_count": null,
   "metadata": {
    "collapsed": true
   },
   "outputs": [],
   "source": []
  }
 ],
 "metadata": {
  "kernelspec": {
   "display_name": "Python 3",
   "language": "python",
   "name": "python3"
  }
 },
 "nbformat": 4,
 "nbformat_minor": 2
}
