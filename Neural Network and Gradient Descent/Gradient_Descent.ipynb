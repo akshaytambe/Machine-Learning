{
 "cells": [
  {
   "cell_type": "markdown",
   "metadata": {},
   "source": [
    "# Gradient Descent Model Implementation\n",
    "\n",
    "### Developed By: Akshay Tambe and Snahil Singh"
   ]
  },
  {
   "cell_type": "markdown",
   "metadata": {},
   "source": [
    "# Question 1: Gradient Descent"
   ]
  },
  {
   "cell_type": "code",
   "execution_count": 247,
   "metadata": {},
   "outputs": [
    {
     "data": {
      "image/png": "[encoded data removed]",
      "text/plain": [
       "<matplotlib.figure.Figure at 0x1512a982e8>"
      ]
     },
     "metadata": {},
     "output_type": "display_data"
    }
   ],
   "source": [
    "import numpy as np\n",
    "import matplotlib.pyplot as plt\n",
    "%matplotlib inline\n",
    "\n",
    "# creating the function and plotting it \n",
    "function = lambda x: (2*(x**4))-(2*(x**3))-(12*(x**2))+6\n",
    "\n",
    "# Get 1000 evenly spaced numbers between -4 and 4 (arbitratil chosen to ensure steep curve)\n",
    "x = np.linspace(-4,4,2000)\n",
    "\n",
    "# Plot the curve\n",
    "plt.plot(x, function(x))\n",
    "plt.show()"
   ]
  },
  {
   "cell_type": "markdown",
   "metadata": {},
   "source": [
    "#### A. What is the value of x at the local minimum and at the global minimum? Find the answer to this question like either by hand with calculus or using matlab or other software"
   ]
  },
  {
   "cell_type": "code",
   "execution_count": 248,
   "metadata": {},
   "outputs": [
    {
     "name": "stdout",
     "output_type": "stream",
     "text": [
      "Optimization terminated successfully.\n",
      "         Current function value: -4.348958\n",
      "         Iterations: 18\n",
      "         Function evaluations: 37\n",
      "Local Minima at x =  -1.3971679687499976\n",
      "Global Minima at x =  2.1471808637959735\n"
     ]
    }
   ],
   "source": [
    "# Verified at: https://www.symbolab.com/solver/calculus-function-extreme-points-calculator/extreme%20f%5Cleft(x%5Cright)%3D%202x%5E%7B4%7D%20%E2%88%92%202x%5E%7B3%7D%20%E2%88%92%2012x%5E%7B2%7D%20%2B%206\n",
    "# Local Minima\n",
    "from scipy.optimize import fmin\n",
    "print(\"Local Minima at x = \",fmin(function,-4)[0])\n",
    "\n",
    "# Global Minima\n",
    "from scipy import optimize\n",
    "x_min = optimize.brent(function)\n",
    "print(\"Global Minima at x = \",optimize.brent(function))"
   ]
  },
  {
   "cell_type": "markdown",
   "metadata": {},
   "source": [
    "#### B. Perform Gradient Descent,  Setting x = −4 and η = 0.001, run gradient descent for 6 iterations (that is, do the update 6 times). Report the values of x and f(x) at the start and after each of the first 6 iterations."
   ]
  },
  {
   "cell_type": "markdown",
   "metadata": {},
   "source": [
    "## 6 iterations"
   ]
  },
  {
   "cell_type": "code",
   "execution_count": 249,
   "metadata": {
    "collapsed": true
   },
   "outputs": [],
   "source": [
    "# To find derivative: http://www.learningaboutelectronics.com/Articles/How-to-find-the-derivative-of-a-function-in-Python.php\n",
    "# The algorithm starts at x=-4\n",
    "cur_x = -4 \n",
    "\n",
    "# Learning rate\n",
    "rate = 0.001 \n",
    "\n",
    "#This tells us when to stop the algorithm\n",
    "precision = 0.000001 \n",
    "\n",
    "previous_step_size = 1 #\n",
    "\n",
    "# maximum number of iterations\n",
    "max_iters = 6 \n",
    "# iteration counter\n",
    "iters = 0 \n",
    "# Gradient of our function \n",
    "df = lambda x: (8*(x**3)) - (6*(x**2)) - (24*x) "
   ]
  },
  {
   "cell_type": "code",
   "execution_count": 250,
   "metadata": {},
   "outputs": [
    {
     "name": "stdout",
     "output_type": "stream",
     "text": [
      "Before entering the iteration x is: -4, f(x) is: 454\n",
      "\n",
      "Iteration 1: X = -3.488, f(x) = 240.90741220147203\n",
      "Iteration 2: X = -3.159231053824, f(x) = 148.52441854620668\n",
      "Iteration 3: X = -2.9229164225026394, f(x) = 99.4029877988204\n",
      "Iteration 4: X = -2.742031675863951, f(x) = 70.0712149441725\n",
      "Iteration 5: X = -2.59779507407776, f(x) = 51.16573699678776\n",
      "Iteration 6: X = -2.4794003442716166, f(x) = 38.29644231132754\n",
      "\n",
      "The minimum occurs at -2.4794003442716166\n"
     ]
    }
   ],
   "source": [
    "print(\"Before entering the iteration x is: \"+str(cur_x)+\", f(x) is: \"+ str(function(cur_x))+\"\\n\")\n",
    "while iters < max_iters:\n",
    "    # Store current x value in prev_x\n",
    "    prev_x = cur_x\n",
    "    # Grad descent\n",
    "    cur_x = cur_x - rate * df(prev_x)\n",
    "    # Change in x\n",
    "    previous_step_size = abs(cur_x - prev_x)\n",
    "    if previous_step_size < precision:\n",
    "        print(\"X converges at Iteration \"+str(iters))\n",
    "    # iteration count\n",
    "    iters = iters+1\n",
    "    # Print iterations\n",
    "    print(\"Iteration \"+str(iters)+\": X = \"+str(cur_x)+\", f(x) = \"+str(function(cur_x))) \n",
    "\n",
    "print(\"\\nThe minimum occurs at\", cur_x)"
   ]
  },
  {
   "cell_type": "markdown",
   "metadata": {},
   "source": [
    "## 1200 Iterations"
   ]
  },
  {
   "cell_type": "code",
   "execution_count": 251,
   "metadata": {
    "collapsed": true
   },
   "outputs": [],
   "source": [
    "# To find derivative: http://www.learningaboutelectronics.com/Articles/How-to-find-the-derivative-of-a-function-in-Python.php\n",
    "# The algorithm starts at x=-4\n",
    "cur_x = -4 \n",
    "\n",
    "# Learning rate\n",
    "rate = 0.001 \n",
    "\n",
    "#This tells us when to stop the algorithm\n",
    "precision = 0.000001 \n",
    "\n",
    "previous_step_size = 1 #\n",
    "\n",
    "# maximum number of iterations\n",
    "max_iters = 1200\n",
    "# iteration counter\n",
    "iters = 0 \n",
    "# Gradient of our function \n",
    "df = lambda x: (8*(x**3)) - (6*(x**2)) - (24*x)\n",
    "converge = 0"
   ]
  },
  {
   "cell_type": "code",
   "execution_count": 252,
   "metadata": {},
   "outputs": [
    {
     "name": "stdout",
     "output_type": "stream",
     "text": [
      "Before entering the iteration x is: -4, f(x) is: 454\n",
      "\n",
      "X converges at Iteration 250\n",
      "Iteration 1195: X = -1.3971808598447308, f(x) = -4.348957724100302\n",
      "Iteration 1196: X = -1.3971808598447308, f(x) = -4.348957724100302\n",
      "Iteration 1197: X = -1.3971808598447308, f(x) = -4.348957724100302\n",
      "Iteration 1198: X = -1.3971808598447308, f(x) = -4.348957724100302\n",
      "Iteration 1199: X = -1.3971808598447308, f(x) = -4.348957724100302\n",
      "Iteration 1200: X = -1.3971808598447308, f(x) = -4.348957724100302\n",
      "\n",
      "The minimum occurs at -1.3971808598447308\n"
     ]
    }
   ],
   "source": [
    "print(\"Before entering the iteration x is: \"+str(cur_x)+\", f(x) is: \"+ str(function(cur_x))+\"\\n\")\n",
    "while iters < max_iters:\n",
    "    # Store current x value in prev_x\n",
    "    prev_x = cur_x\n",
    "    # Grad descent\n",
    "    cur_x = cur_x - rate * df(prev_x)\n",
    "    # Change in x\n",
    "    previous_step_size = abs(cur_x - prev_x)\n",
    "    if previous_step_size < precision and converge == 0:\n",
    "        print(\"X converges at Iteration \"+str(iters))\n",
    "        converge = 1\n",
    "    # iteration count\n",
    "    iters = iters+1\n",
    "    # Iteration stopped at 251, showing last 6 Iterations\n",
    "    if iters>=1195:\n",
    "        # Print iterations\n",
    "        print(\"Iteration \"+str(iters)+\": X = \"+str(cur_x)+\", f(x) = \"+str(function(cur_x))) \n",
    "    \n",
    "print(\"\\nThe minimum occurs at\", cur_x)"
   ]
  },
  {
   "cell_type": "markdown",
   "metadata": {},
   "source": [
    "#### C. Repeat the previous exercise, but this time, start with x=4."
   ]
  },
  {
   "cell_type": "markdown",
   "metadata": {},
   "source": [
    "## 6 Iterations"
   ]
  },
  {
   "cell_type": "code",
   "execution_count": 253,
   "metadata": {
    "collapsed": true
   },
   "outputs": [],
   "source": [
    "# To find derivative: http://www.learningaboutelectronics.com/Articles/How-to-find-the-derivative-of-a-function-in-Python.php\n",
    "# The algorithm starts at x=-4\n",
    "cur_x = 4 \n",
    "\n",
    "# Learning rate\n",
    "rate = 0.001 \n",
    "\n",
    "#This tells us when to stop the algorithm\n",
    "precision = 0.000001 \n",
    "\n",
    "previous_step_size = 1 #\n",
    "\n",
    "# maximum number of iterations\n",
    "max_iters = 6\n",
    "# iteration counter\n",
    "iters = 0 \n",
    "# Gradient of our function \n",
    "df = lambda x: (8*(x**3)) - (6*(x**2)) - (24*x) "
   ]
  },
  {
   "cell_type": "code",
   "execution_count": 254,
   "metadata": {},
   "outputs": [
    {
     "name": "stdout",
     "output_type": "stream",
     "text": [
      "Before entering the iteration x is: 4, f(x) is: 198\n",
      "\n",
      "Iteration 1: X = 3.68, f(x) = 110.61233152000005\n",
      "Iteration 2: X = 3.450886144, f(x) = 64.53629857986431\n",
      "Iteration 3: X = 3.276396901609702, f(x) = 37.31076190742675\n",
      "Iteration 4: X = 3.138067975365072, f(x) = 19.971643359608052\n",
      "Iteration 5: X = 3.0252501730040535, f(x) = 8.322601113072949\n",
      "Iteration 6: X = 2.9312689375235244, f(x) = 0.17557478693807127\n",
      "\n",
      "The minimum occurs at 2.9312689375235244\n"
     ]
    }
   ],
   "source": [
    "print(\"Before entering the iteration x is: \"+str(cur_x)+\", f(x) is: \"+ str(function(cur_x))+\"\\n\")\n",
    "while previous_step_size > precision and iters < max_iters:\n",
    "    # Store current x value in prev_x\n",
    "    prev_x = cur_x\n",
    "    # Grad descent\n",
    "    cur_x = cur_x - rate * df(prev_x)\n",
    "    # Change in x\n",
    "    previous_step_size = abs(cur_x - prev_x) \n",
    "    # iteration count\n",
    "    iters = iters+1\n",
    "    # Print iterations\n",
    "    print(\"Iteration \"+str(iters)+\": X = \"+str(cur_x)+\", f(x) = \"+str(function(cur_x))) \n",
    "\n",
    "print(\"\\nThe minimum occurs at\", cur_x)"
   ]
  },
  {
   "cell_type": "markdown",
   "metadata": {},
   "source": [
    "## 1200 Iterations"
   ]
  },
  {
   "cell_type": "code",
   "execution_count": 257,
   "metadata": {
    "collapsed": true
   },
   "outputs": [],
   "source": [
    "# To find derivative: http://www.learningaboutelectronics.com/Articles/How-to-find-the-derivative-of-a-function-in-Python.php\n",
    "# The algorithm starts at x=-4\n",
    "cur_x = 4 \n",
    "\n",
    "# Learning rate\n",
    "rate = 0.001 \n",
    "\n",
    "#This tells us when to stop the algorithm\n",
    "precision = 0.000001 \n",
    "\n",
    "previous_step_size = 1 #\n",
    "\n",
    "# maximum number of iterations\n",
    "max_iters = 1200\n",
    "# iteration counter\n",
    "iters = 0 \n",
    "# Gradient of our function \n",
    "df = lambda x: (8*(x**3)) - (6*(x**2)) - (24*x) \n",
    "converge = 0"
   ]
  },
  {
   "cell_type": "code",
   "execution_count": 258,
   "metadata": {},
   "outputs": [
    {
     "name": "stdout",
     "output_type": "stream",
     "text": [
      "Before entering the iteration x is: 4, f(x) is: 198\n",
      "\n",
      "X converges at Iteration 170\n",
      "Iteration 1195: X = 2.1471808598447315, f(x) = -26.611979775899705\n",
      "Iteration 1196: X = 2.1471808598447315, f(x) = -26.611979775899705\n",
      "Iteration 1197: X = 2.1471808598447315, f(x) = -26.611979775899705\n",
      "Iteration 1198: X = 2.1471808598447315, f(x) = -26.611979775899705\n",
      "Iteration 1199: X = 2.1471808598447315, f(x) = -26.611979775899705\n",
      "Iteration 1200: X = 2.1471808598447315, f(x) = -26.611979775899705\n",
      "\n",
      "The minimum occurs at 2.1471808598447315\n"
     ]
    }
   ],
   "source": [
    "print(\"Before entering the iteration x is: \"+str(cur_x)+\", f(x) is: \"+ str(function(cur_x))+\"\\n\")\n",
    "while iters < max_iters:\n",
    "    # Store current x value in prev_x\n",
    "    prev_x = cur_x\n",
    "    # Grad descent\n",
    "    cur_x = cur_x - rate * df(prev_x)\n",
    "    # Change in x\n",
    "    previous_step_size = abs(cur_x - prev_x)\n",
    "    if previous_step_size < precision and converge == 0:\n",
    "        print(\"X converges at Iteration \"+str(iters))\n",
    "        converge = 1\n",
    "    # iteration count\n",
    "    iters = iters+1\n",
    "    # Iteration stopped at 171, showing last 6 Iterations\n",
    "    if iters>=1195:\n",
    "        # Print iterations\n",
    "        print(\"Iteration \"+str(iters)+\": X = \"+str(cur_x)+\", f(x) = \"+str(function(cur_x))) \n",
    "\n",
    "print(\"\\nThe minimum occurs at\", cur_x)"
   ]
  },
  {
   "cell_type": "markdown",
   "metadata": {},
   "source": [
    "#### D. Setting x = −4 and η = 0.01, run gradient descent for 1200 iterations. As in the previous two exercises, report the initial values of x and f(x), the next 6 values of x and f(x), and the last 6 values of x and f(x). Compare the results obtained this time to the results obtained above for x = −4 and η = 0.001. What happened?"
   ]
  },
  {
   "cell_type": "code",
   "execution_count": 259,
   "metadata": {
    "collapsed": true
   },
   "outputs": [],
   "source": [
    "# To find derivative: http://www.learningaboutelectronics.com/Articles/How-to-find-the-derivative-of-a-function-in-Python.php\n",
    "# The algorithm starts at x=-4\n",
    "cur_x = -4\n",
    "\n",
    "# Learning rate\n",
    "rate = 0.01 \n",
    "\n",
    "#This tells us when to stop the algorithm\n",
    "precision = 0.000001 \n",
    "\n",
    "previous_step_size = 1 #\n",
    "\n",
    "# maximum number of iterations\n",
    "max_iters = 1200\n",
    "# iteration counter\n",
    "iters = 0 \n",
    "# Gradient of our function \n",
    "df = lambda x: (8*(x**3)) - (6*(x**2)) - (24*x) \n",
    "converge = 0"
   ]
  },
  {
   "cell_type": "code",
   "execution_count": 260,
   "metadata": {},
   "outputs": [
    {
     "name": "stdout",
     "output_type": "stream",
     "text": [
      "Before entering the iteration x is: -4, f(x) is: 454\n",
      "\n",
      "Iteration 1: X = 1.12, f(x) = -8.71561728\n",
      "Iteration 2: X = 1.35166976, f(x) = -14.187225687602176\n",
      "Iteration 3: X = 1.588129914065571, f(x) = -19.554356180837104\n",
      "Iteration 4: X = 1.8001695002820235, f(x) = -23.55150883046352\n",
      "Iteration 5: X = 1.9599549783032466, f(x) = -25.64204722189585\n",
      "Iteration 6: X = 2.0585082124451546, f(x) = -26.383081197323108\n",
      "X converges at Iteration 18\n",
      "Iteration 1195: X = 2.147180859844728, f(x) = -26.611979775899698\n",
      "Iteration 1196: X = 2.147180859844728, f(x) = -26.611979775899698\n",
      "Iteration 1197: X = 2.147180859844728, f(x) = -26.611979775899698\n",
      "Iteration 1198: X = 2.147180859844728, f(x) = -26.611979775899698\n",
      "Iteration 1199: X = 2.147180859844728, f(x) = -26.611979775899698\n",
      "Iteration 1200: X = 2.147180859844728, f(x) = -26.611979775899698\n",
      "\n",
      "The minimum occurs at 2.147180859844728\n"
     ]
    }
   ],
   "source": [
    "print(\"Before entering the iteration x is: \"+str(cur_x)+\", f(x) is: \"+ str(function(cur_x))+\"\\n\")\n",
    "while iters < max_iters:\n",
    "    # Store current x value in prev_x\n",
    "    prev_x = cur_x\n",
    "    # Grad descent\n",
    "    cur_x = cur_x - rate * df(prev_x)\n",
    "    # Change in x\n",
    "    previous_step_size = abs(cur_x - prev_x)\n",
    "    if previous_step_size < precision and converge == 0:\n",
    "        print(\"X converges at Iteration \"+str(iters))\n",
    "        converge = 1\n",
    "    # iteration count\n",
    "    iters = iters+1\n",
    "    # Iteration stopped at 19, showing first and last 6 Iterations\n",
    "    if iters<=6:\n",
    "        # Print iterations\n",
    "        print(\"Iteration \"+str(iters)+\": X = \"+str(cur_x)+\", f(x) = \"+str(function(cur_x)))\n",
    "    if iters>=1195:\n",
    "        # Print iterations\n",
    "        print(\"Iteration \"+str(iters)+\": X = \"+str(cur_x)+\", f(x) = \"+str(function(cur_x)))\n",
    "\n",
    "print(\"\\nThe minimum occurs at\", cur_x)"
   ]
  },
  {
   "cell_type": "markdown",
   "metadata": {},
   "source": [
    "#### E. Setting x = −4 and η = 0.1, run gradient descent for 100 iterations. What happened?"
   ]
  },
  {
   "cell_type": "code",
   "execution_count": 266,
   "metadata": {
    "collapsed": true
   },
   "outputs": [],
   "source": [
    "# To find derivative: http://www.learningaboutelectronics.com/Articles/How-to-find-the-derivative-of-a-function-in-Python.php\n",
    "# The algorithm starts at x=-4\n",
    "cur_x = -4\n",
    "\n",
    "# Learning rate\n",
    "rate = 0.1 \n",
    "\n",
    "#This tells us when to stop the algorithm\n",
    "precision = 0.000001 \n",
    "\n",
    "previous_step_size = 1 #\n",
    "\n",
    "# maximum number of iterations\n",
    "max_iters = 100\n",
    "# iteration counter\n",
    "iters = 0 \n",
    "# Gradient of our function \n",
    "df = lambda x: (8*(x**3)) - (6*(x**2)) - (24*x) \n",
    "converge = 0"
   ]
  },
  {
   "cell_type": "code",
   "execution_count": 267,
   "metadata": {},
   "outputs": [
    {
     "name": "stdout",
     "output_type": "stream",
     "text": [
      "Before entering the iteration x is: -4, f(x) is: 454\n",
      "\n",
      "Iteration 1: X = 47.2, f(x) = 9689505.955200002\n",
      "Iteration 2: X = -82626.05440000002, f(x) = 9.321875746621314e+19\n",
      "Iteration 3: X = 451278842347294.06, f(x) = 8.294875771953852e+58\n",
      "Iteration 4: X = -7.352328532672759e+43, f(x) = 5.8442611657954e+175\n",
      "Iteration 5: X = -inf, f(x) = nan\n",
      "\n",
      "The minimum occurs at 3.179542992304705e+131\n"
     ]
    }
   ],
   "source": [
    "print(\"Before entering the iteration x is: \"+str(cur_x)+\", f(x) is: \"+ str(function(cur_x))+\"\\n\")\n",
    "while previous_step_size > precision and iters < max_iters:\n",
    "    try:\n",
    "        # Store current x value in prev_x\n",
    "        prev_x = cur_x\n",
    "        # Grad descent\n",
    "        cur_x = cur_x - rate * df(prev_x)\n",
    "        # Change in x\n",
    "        previous_step_size = abs(cur_x - prev_x)\n",
    "        if previous_step_size < precision and converge == 0:\n",
    "            print(\"X converges at Iteration \"+str(iters))\n",
    "            converge = 1\n",
    "        # iteration count\n",
    "        iters = iters+1\n",
    "        # Print iterations\n",
    "        print(\"Iteration \"+str(iters)+\": X = \"+str(cur_x)+\", f(x) = \"+str(function(cur_x)))\n",
    "    except OverflowError:\n",
    "        print(\"Iteration \"+str(iters)+\": X = -inf, f(x) = nan\")\n",
    "        break\n",
    "\n",
    "print(\"\\nThe minimum occurs at\", cur_x)"
   ]
  },
  {
   "cell_type": "markdown",
   "metadata": {},
   "source": [
    "#### Gradient Descent Shuffling too much!!"
   ]
  },
  {
   "cell_type": "code",
   "execution_count": null,
   "metadata": {
    "collapsed": true
   },
   "outputs": [],
   "source": []
  }
 ],
 "metadata": {
  "kernelspec": {
   "display_name": "Python 3",
   "language": "python",
   "name": "python3"
  },
  "language_info": {
   "codemirror_mode": {
    "name": "ipython",
    "version": 3
   },
   "file_extension": ".py",
   "mimetype": "text/x-python",
   "name": "python",
   "nbconvert_exporter": "python",
   "pygments_lexer": "ipython3",
   "version": "3.6.3"
  }
 },
 "nbformat": 4,
 "nbformat_minor": 2
}
